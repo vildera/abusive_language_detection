{
 "cells": [
  {
   "cell_type": "markdown",
   "metadata": {},
   "source": [
    "# Data Preprocessing Danish "
   ]
  },
  {
   "cell_type": "markdown",
   "metadata": {},
   "source": [
    "## Libraries"
   ]
  },
  {
   "cell_type": "code",
   "execution_count": null,
   "metadata": {},
   "outputs": [],
   "source": [
    "import pkg_resources\n",
    "import subprocess\n",
    "import sys\n",
    "import os\n",
    "import pandas as pd\n",
    "from pandas_ods_reader import read_ods\n",
    "\n",
    "import seaborn as sns\n",
    "import matplotlib.pyplot as plt \n",
    "\n",
    "import nltk\n",
    "import re, itertools\n",
    "from string import punctuation\n",
    "\n",
    "from googletrans import Translator\n",
    "\n",
    "import emoji\n",
    "\n",
    "nltk.download('punkt')\n",
    "\n",
    "import warnings\n",
    "warnings.filterwarnings(\"ignore\")"
   ]
  },
  {
   "cell_type": "markdown",
   "metadata": {},
   "source": [
    "## Import data"
   ]
  },
  {
   "cell_type": "code",
   "execution_count": null,
   "metadata": {},
   "outputs": [],
   "source": [
    "os.getcwd()"
   ]
  },
  {
   "cell_type": "code",
   "execution_count": null,
   "metadata": {},
   "outputs": [],
   "source": [
    "path = os.getcwd()+ \"/dkhate/data/\"\n",
    "df = read_ods(path + \"dkhate.ods\",2)\n",
    "display(df.head(2))"
   ]
  },
  {
   "cell_type": "code",
   "execution_count": null,
   "metadata": {},
   "outputs": [],
   "source": [
    "df = df[[\"Text\", \"Translated Text\",\"uid\", \"Source\", \"Sub-Task A\", \"Sub-Task B\", \"Sub-Task C\"]]\n",
    "df[df[\"Sub-Task A\"] == \"not\"] = \"NOT\"\n",
    "df[df[\"Sub-Task A\"] == \"NoT\"] = \"NOT\"\n",
    "df.head(2)"
   ]
  },
  {
   "cell_type": "markdown",
   "metadata": {},
   "source": [
    "# Preprocessing"
   ]
  },
  {
   "cell_type": "code",
   "execution_count": null,
   "metadata": {},
   "outputs": [],
   "source": [
    "# remove irrelevant punctuation. If lowercasing set string.lowercase() \n",
    "def clean_text(string):\n",
    "    return ''.join(c for c in string if c not in punctuation)\n",
    "\n",
    "# Reduce orthographic lengthening to two characters\n",
    "def remove_duplicates(string):\n",
    "    cleaned = ''.join(''.join(s)[:2] for _, s in itertools.groupby(string))\n",
    "    return cleaned\n",
    "\n",
    "def sent_tokenize(string):\n",
    "    return nltk.sent_tokenize(string, language = \"norwegian\")\n",
    "\n",
    "def word_tokenize(string):\n",
    "    return nltk.word_tokenize(string, language = \"norwegian\")\n",
    "\n",
    "def convert_user(string):\n",
    "    return re.sub(r'(@User|@USER)', 'Navn', string)\n"
   ]
  },
  {
   "cell_type": "code",
   "execution_count": null,
   "metadata": {},
   "outputs": [],
   "source": [
    "test = df.Text.apply(sent_tokenize)\n",
    "length = test.apply(len)"
   ]
  },
  {
   "cell_type": "code",
   "execution_count": null,
   "metadata": {},
   "outputs": [],
   "source": [
    "df[\"cleaned\"] = df.Text.apply(clean_text)\n",
    "df[\"cleaned\"] = df.cleaned.apply(remove_duplicates)\n",
    "df[\"cleaned\"].head()"
   ]
  },
  {
   "cell_type": "markdown",
   "metadata": {},
   "source": [
    "## Filtered dataframes"
   ]
  },
  {
   "cell_type": "code",
   "execution_count": null,
   "metadata": {},
   "outputs": [],
   "source": [
    "df.head()"
   ]
  },
  {
   "cell_type": "code",
   "execution_count": null,
   "metadata": {},
   "outputs": [],
   "source": [
    "os.getcwd()"
   ]
  },
  {
   "cell_type": "code",
   "execution_count": null,
   "metadata": {},
   "outputs": [],
   "source": [
    "df.to_csv('/Users/vildearntzen/Desktop/master_kode/master_kode/data/'+'dk_preprocessed.csv')"
   ]
  },
  {
   "cell_type": "code",
   "execution_count": null,
   "metadata": {},
   "outputs": [],
   "source": [
    "noff = df[df[\"Sub-Task A\"] != \"OFF\"]\n",
    "off  = df[df[\"Sub-Task A\"] == \"OFF\"]\n",
    "tin  = df[df[\"Sub-Task B\"] == \"TIN\"]\n",
    "unt  = df[df[\"Sub-Task B\"] == \"UNT\"]\n",
    "grp  = df[df[\"Sub-Task C\"] == \"GRP\"]\n",
    "ind  = df[df[\"Sub-Task C\"] == \"IND\"]\n",
    "oth  = df[df[\"Sub-Task C\"] == \"OTH\"]"
   ]
  },
  {
   "cell_type": "code",
   "execution_count": null,
   "metadata": {},
   "outputs": [],
   "source": [
    "display(len(noff))\n",
    "display(len(off))\n",
    "display(len(unt))\n",
    "display(len(tin))\n",
    "display(len(grp))\n",
    "display(len(ind))\n",
    "display(len(oth)) "
   ]
  },
  {
   "cell_type": "markdown",
   "metadata": {},
   "source": [
    "## dk_cleaned.csv"
   ]
  },
  {
   "cell_type": "code",
   "execution_count": null,
   "metadata": {},
   "outputs": [],
   "source": [
    "path = '/Users/vildearntzen/Desktop/master_kode/master_kode/data/'\n",
    "df = pd.read_csv(path + 'dk_preprocessed_translations.csv',  index_col = 0)\n",
    "df.head(2)"
   ]
  },
  {
   "cell_type": "code",
   "execution_count": null,
   "metadata": {},
   "outputs": [],
   "source": [
    "len(df)"
   ]
  },
  {
   "cell_type": "code",
   "execution_count": null,
   "metadata": {},
   "outputs": [],
   "source": [
    "df = df[df.cleaned.notna()]"
   ]
  },
  {
   "cell_type": "code",
   "execution_count": null,
   "metadata": {},
   "outputs": [],
   "source": [
    "len(df)"
   ]
  },
  {
   "cell_type": "markdown",
   "metadata": {},
   "source": [
    "## Convert @USER to Navn"
   ]
  },
  {
   "cell_type": "code",
   "execution_count": null,
   "metadata": {},
   "outputs": [],
   "source": [
    "dk = pd.read_csv(PATH + 'dk.csv')\n",
    "\n",
    "translated_cols = {\"translatepy_no\":\"translatepy\", \"easynmt_no_opus-mt\": \"opus-mt\", \"easynmt_no_m2m_100_418M\":\"418M\", \"easynmt_no_m2m_100_1.2B\": \"1.2B\"}\n",
    "for old, new in translated_cols.items():\n",
    "    dk[new] = dk[old].apply(convert_user)"
   ]
  },
  {
   "cell_type": "code",
   "execution_count": null,
   "metadata": {},
   "outputs": [],
   "source": [
    "dk[\"text\"] = dk[\"text\"].apply(convert_user)\n",
    "dk[\"cleaned\"] = dk[\"cleaned\"].apply(convert_user)\n",
    "\n",
    "dk.head(15)"
   ]
  },
  {
   "cell_type": "markdown",
   "metadata": {},
   "source": [
    "## Save dataframe to csv"
   ]
  },
  {
   "cell_type": "code",
   "execution_count": null,
   "metadata": {},
   "outputs": [],
   "source": [
    "df = pd.read_csv(path + 'preprocessed.csv')"
   ]
  },
  {
   "cell_type": "code",
   "execution_count": null,
   "metadata": {},
   "outputs": [],
   "source": [
    "df.head(3)"
   ]
  },
  {
   "cell_type": "code",
   "execution_count": null,
   "metadata": {},
   "outputs": [],
   "source": []
  }
 ],
 "metadata": {
  "kernelspec": {
   "display_name": "Python 3",
   "language": "python",
   "name": "python3"
  },
  "language_info": {
   "codemirror_mode": {
    "name": "ipython",
    "version": 3
   },
   "file_extension": ".py",
   "mimetype": "text/x-python",
   "name": "python",
   "nbconvert_exporter": "python",
   "pygments_lexer": "ipython3",
   "version": "3.8.3"
  }
 },
 "nbformat": 4,
 "nbformat_minor": 4
}
