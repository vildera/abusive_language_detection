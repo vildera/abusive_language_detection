{
 "cells": [
  {
   "cell_type": "markdown",
   "id": "92249a8d",
   "metadata": {},
   "source": [
    "# Calculations"
   ]
  },
  {
   "cell_type": "markdown",
   "id": "d4093cf6",
   "metadata": {},
   "source": [
    "## Test runs"
   ]
  },
  {
   "cell_type": "code",
   "execution_count": null,
   "id": "da3ac7f0",
   "metadata": {},
   "outputs": [],
   "source": [
    "# notram based cleaned (not optimized) (212239-212243) \n",
    "acc = ( 0.8545 + 0.8565 +  0.8586 +  0.8590 + 0.8577 )/5\n",
    "f1 = (0.7200 + 0.7234 + 0.7218 + 0.7282 + 0.7271 )/5\n",
    "display(acc)\n",
    "display(f1)\n"
   ]
  },
  {
   "cell_type": "code",
   "execution_count": null,
   "id": "e9f9909f",
   "metadata": {},
   "outputs": [],
   "source": [
    "# notram large cleaned (not optimized) (212221-212225)\n",
    "acc = (0.8668 + 0.8664 + 0.8684+ 0.8641 + 0.8668 )/5\n",
    "f1 = (0.7491 + 0.7532 + 0.7522 + 0.7475 + 0.7522)/5\n",
    "display(acc)\n",
    "display(f1)"
   ]
  },
  {
   "cell_type": "markdown",
   "id": "8f00bb43",
   "metadata": {},
   "source": [
    "## Hate speech detection"
   ]
  },
  {
   "cell_type": "code",
   "execution_count": null,
   "id": "5fbc2dd5",
   "metadata": {},
   "outputs": [],
   "source": [
    "# mbert cased optimized (218191-218195)\n",
    "acc = (0.8748 + 0.8776 +0.8748 + 0.8825 + 0.8719)/5\n",
    "f1 = (0.6252 + 0.6321 + 0.6355 +0.6271 +  0.6287 )/5\n",
    "display(acc)\n",
    "display(f1)"
   ]
  },
  {
   "cell_type": "code",
   "execution_count": null,
   "id": "e02f1aeb",
   "metadata": {},
   "outputs": [],
   "source": [
    "# mbert uncased optimized (218124-218228)\n",
    "acc = (0.8873 + 0.8921 + 0.8844 + 0.8839+  0.8825 )/5\n",
    "f1 = (0.6349 + 0.5900 + 0.5890 +  0.6269+ 0.6271)/5\n",
    "display(acc)\n",
    "display(f1)"
   ]
  },
  {
   "cell_type": "code",
   "execution_count": null,
   "id": "fce247ae",
   "metadata": {},
   "outputs": [],
   "source": [
    "# norbert optimized (218186-218190)\n",
    "acc = (0.8757 +0.8849 + 0.8911  +  0.8752 + 0.8748 )/5\n",
    "f1 = (0.6135 + 0.6356 + 0.6301 + 0.6204 + 0.6321 )/5\n",
    "display(acc)\n",
    "display(f1)"
   ]
  },
  {
   "cell_type": "code",
   "execution_count": null,
   "id": "3eb48824",
   "metadata": {},
   "outputs": [],
   "source": [
    "# notram base optimized (218143-218147)\n",
    "acc = (0.8858 + 0.8839 +  0.8907 + 0.8878 + 0.8849 )/5\n",
    "f1 = (0.6623 + 0.6644 +  0.6673 +  0.6601 + 0.6657 )/5\n",
    "display(acc)\n",
    "display(f1)"
   ]
  },
  {
   "cell_type": "code",
   "execution_count": null,
   "id": "c3af2909",
   "metadata": {},
   "outputs": [],
   "source": [
    "# notram large optimized (218288-218292)\n",
    "acc = (0.8964 + 0.8907 + 0.9032 + 0.8960 +  0.8945 )/5\n",
    "f1 = (0.6893 + 0.6689 + 0.6966 + 0.6699 + 0.6727)/5\n",
    "display(acc)\n",
    "display(f1)"
   ]
  },
  {
   "cell_type": "code",
   "execution_count": null,
   "id": "4586f005",
   "metadata": {},
   "outputs": [],
   "source": [
    "# mBERT cased optimized (218191-218195)\n",
    "print(\"Offensive:\")\n",
    "print(\"P:\",(0.9232 + 0.9243 + 0.9259 + 0.9221 + 0.9247)/5)\n",
    "print(\"R:\",(0.9390 + 0.9411 + 0.9358 + 0.9221 + 0.9337)/5)\n",
    "print(\"F1\",(0.9310 + 0.9327 + 0.9308 + 0.9357 + 0.9292)/5)\n",
    "print(\"Hate:\")\n",
    "print(\"P:\",(0.3486 + 0.3642 + 0.3583 + 0.3775 + 0.3439)/5)\n",
    "print(\"R:\",(0.2947 + 0.3043 + 0.3237 + 0.2754 + 0.3140)/5)\n",
    "print(\"F1\",(0.3194 + 0.3316 + 0.3401 + 0.3184 + 0.3283)/5)"
   ]
  },
  {
   "cell_type": "code",
   "execution_count": null,
   "id": "bc414e8b",
   "metadata": {},
   "outputs": [],
   "source": [
    "# mbert uncased optimized (218124-218228)\n",
    "print(\"Offensive:\")\n",
    "print(\"P:\",(0.9229 + 0.9135 + 0.9141 + 0.9218 + 0.9221)/5)\n",
    "print(\"R:\",(0.9545 + 0.9722 + 0.9620 + 0.9518 + 0.9497)/5)\n",
    "print(\"F1\",(0.9385 + 0.9419 + 0.9374 + 0.9366 + 0.9357)/5)\n",
    "print(\"Hate:\")\n",
    "print(\"P:\", (0.4056 + 0.4023 + 0.3486 + 0.3836 + 0.3775)/5)\n",
    "print(\"R:\", (0.2802 + 0.1691 + 0.1836 + 0.2705 + 0.2754)/5)\n",
    "print(\"F1\",(0.2802 + 0.2381 + 0.2405 + 0.3173 + 0.3184 )/5)"
   ]
  },
  {
   "cell_type": "code",
   "execution_count": null,
   "id": "2e459eac",
   "metadata": {},
   "outputs": [],
   "source": [
    "# norbert optimized (218186-218190)\n",
    "print(\"Offensive:\")\n",
    "print(\"P:\",(0.9202 + 0.9236 + 0.9211 + 0.9219 + 0.9250)/5)\n",
    "print(\"R:\",(0.9438 + 0.9508 + 0.9615 + 0.9411 + 0.9369)/5)\n",
    "print(\"F1\",(0.9319 + 0.9370 + 0.9408 + 0.9314 + 0.9309)/5)\n",
    "print(\"Hate:\")\n",
    "print(\"P:\",(0.3396 + 0.3947 + 0.4240 + 0.3452 + 0.3552)/5)\n",
    "print(\"R:\",(0.2609 + 0.2899 + 0.2560 + 0.2802 + 0.3140 )/5)\n",
    "print(\"F1\",(0.2951 + 0.3343 + 0.3193 + 0.3093 + 0.3333)/5)"
   ]
  },
  {
   "cell_type": "code",
   "execution_count": null,
   "id": "1c7b7100",
   "metadata": {},
   "outputs": [],
   "source": [
    "# notram base optimized (218143-218147)\n",
    "print(\"Offensive:\")\n",
    "print(\"P:\",(0.9304 + 0.9316 + 0.9303 + 0.9292 + 0.9317)/5)\n",
    "print(\"R:\",(0.9438  + 0.9401 + 0.9497 + 0.9476 + 0.9411)/5)\n",
    "print(\"F1\",(0.9371 + 0.9358 + 0.9399 + 0.9383 + 0.9364)/5)\n",
    "print(\"Hate:\")\n",
    "print(\"P:\",(0.4167 + 0.4105 + 0.4405 + 0.4235 + 0.4149)/5)\n",
    "print(\"R:\",(0.3623 + 0.3768 + 0.3575 + 0.3478 + 0.3768)/5)\n",
    "print(\"F1\",(0.3876 + 0.3929 + 0.3947 + 0.3820 + 0.3949)/5)"
   ]
  },
  {
   "cell_type": "code",
   "execution_count": null,
   "id": "44d99111",
   "metadata": {},
   "outputs": [],
   "source": [
    "# notram large optimized (218288-218292)\n",
    "print(\"Offensive:\")\n",
    "print(\"P:\",(0.9348 + 0.9307 + 0.9344 + 0.9294 + 0.9306)/5)\n",
    "print(\"R:\",(0.9513 + 0.9492 + 0.9599 + 0.9572 + 0.9540)/5)\n",
    "print(\"F1\",(0.9430 + 0.9399 + 0.9470 + 0.9431 + 0.9421)/5)\n",
    "print(\"Hate:\")\n",
    "print(\"P:\",(0.4770 + 0.4412 + 0.5192 + 0.4702 + 0.4625)/5)\n",
    "print(\"R:\",(0.4010 + 0.3623 + 0.3913 + 0.3430 + 0.3575)/5)\n",
    "print(\"F1\",(0.4357 + 0.3979 + 0.4463 + 0.3966 + 0.4033)/5)"
   ]
  },
  {
   "cell_type": "code",
   "execution_count": null,
   "id": "ec811546",
   "metadata": {},
   "outputs": [],
   "source": [
    "# Undersample (267279-267283)\n",
    "print(\"Offensive:\")\n",
    "print(\"P:\",(0.9538 + 0.9487 + 0.9446 + 0.9502 + 0.9478)/5)\n",
    "print(\"R:\",(0.8390 + 0.8801 + 0.8491 + 0.8363 + 0.8448)/5)\n",
    "print(\"F1\",(0.8927 + 0.9131 + 0.8943 + 0.8896 + 0.8934)/5)\n",
    "print(\"Hate:\")\n",
    "print(\"P:\",(0.3032 + 0.3450 + 0.2879 + 0.2900 + 0.2927)/5)\n",
    "print(\"R:\",(0.6329 + 0.5700 + 0.5507 + 0.6039 + 0.5797)/5)\n",
    "print(\"F1\",(0.4100 + 0.4299 + 0.3781 + 0.3918 + 0.3890)/5)\n",
    "\n",
    "\n",
    "# notram large optimized (218288-218292)\n",
    "acc = (0.8184 + 0.8492 + 0.8194 + 0.8131 + 0.8184)/5\n",
    "f1 = (0.6513 + 0.6715 + 0.6362 + 0.6407 + 0.6412)/5\n",
    "display(acc)\n",
    "display(f1)"
   ]
  },
  {
   "cell_type": "code",
   "execution_count": null,
   "id": "a73a64af",
   "metadata": {},
   "outputs": [],
   "source": [
    "# Merged dk 1 (305936-305940) (16, 5e-05, 4)\n",
    "#acc = (0.8882 + 0.8916 + 0.8979 + 0.8931 + 0.8969)/5\n",
    "#f1 = (0.6418 + 0.6535 + 0.6511 + 0.6554 + 0.6572)/5\n",
    "#display(acc)\n",
    "#display(f1)"
   ]
  },
  {
   "cell_type": "code",
   "execution_count": null,
   "id": "0ff50e3a",
   "metadata": {},
   "outputs": [],
   "source": [
    "# Merged dk 2 (306402-306406) (32, 2e-05, 4)\n",
    "print(\"Offensive:\")\n",
    "print(\"P:\",(0.9291 + 0.9297 + 0.9294 + 0.9303 + 0.9233)/5)\n",
    "print(\"R:\",(0.9535 + 0.9551 + 0.9513 + 0.9567 + 0.9535)/5)                           \n",
    "print(\"F1\",(0.9411 + 0.9422 + 0.9402 + 0.9433 + 0.9381)/5)        \n",
    "print(\"Hate:\")\n",
    "print(\"P:\",(0.4494 + 0.4615 + 0.4417 + 0.4740 + 0.4041)/5)\n",
    "print(\"R:\",(0.3430 + 0.3478 + 0.3478 + 0.3527 + 0.2850)/5)\n",
    "print(\"F1\",(0.3890 + 0.3967 + 0.3892 + 0.4044 + 0.3343)/5)                        \n",
    "\n",
    "\n",
    "acc = (0.8926 + 0.8945 + 0.8911 + 0.8964 + 0.8868)/5\n",
    "f1 = (0.6651 + 0.6694 + 0.6647 + 0.6739 + 0.6362 )/5\n",
    "display(acc)\n",
    "display(f1)"
   ]
  },
  {
   "cell_type": "code",
   "execution_count": null,
   "id": "4bcb073b",
   "metadata": {},
   "outputs": [],
   "source": [
    "# Train_dk  (307500-307504) (32, 2e-05, 4)\n",
    "print(\"Offensive:\")\n",
    "print(\"P:\",(0.9068 + 0.9017 + 0.9154 + 0.9148 + 0.8945)/5)        \n",
    "print(\"R:\",(0.3333 + 0.7410 + 0.3472 + 0.5746 + 0.4173)/5)\n",
    "print(\"F1\",(0.4875 + 0.8135 + 0.5035 + 0.7059 + 0.5691)/5)           \n",
    "print(\"Hate:\")\n",
    "print(\"P:\",(0.1030 + 0.1037 + 0.1075 + 0.1186 + 0.0955)/5)\n",
    "print(\"R:\",(0.6908 + 0.2705 + 0.7101 + 0.5169 + 0.5556)/5)           \n",
    "print(\"F1\",(0.1792 + 0.1499 + 0.1868 + 0.1930 + 0.1630)/5)\n",
    "\n",
    "\n",
    "acc = (0.4311 + 0.5689 + 0.3834 + 0.6941 + 0.3690)/5\n",
    "f1 = (0.3661 + 0.4494 + 0.3451 + 0.4817 + 0.3333)/5\n",
    "display(acc)\n",
    "display(f1)"
   ]
  },
  {
   "cell_type": "markdown",
   "id": "a22b59f3",
   "metadata": {},
   "source": [
    "## Offensive language detection"
   ]
  },
  {
   "cell_type": "code",
   "execution_count": null,
   "id": "d98aae16",
   "metadata": {},
   "outputs": [],
   "source": [
    "# mbert cased optimized (218293-218297)\n",
    "acc = ( 0.8505 + 0.8514 +  0.8493 + 0.8492 + 0.8492  )/5\n",
    "f1 = (0.6974 + 0.7019 + 0.6924 + 0.7008 + 0.6974)/5\n",
    "display(acc)\n",
    "display(f1)"
   ]
  },
  {
   "cell_type": "code",
   "execution_count": null,
   "id": "09495572",
   "metadata": {},
   "outputs": [],
   "source": [
    "# mbert uncased optimized (218298-218202)\n",
    "acc = (0.8452 + 0.8456 + 0.8459 + 0.8431 + 0.8479 )/5\n",
    "f1 = (0.6945 +  0.6988 + 0.6910 + 0.6891 + 0.6965)/5\n",
    "display(acc)\n",
    "display(f1)"
   ]
  },
  {
   "cell_type": "code",
   "execution_count": null,
   "id": "224718c6",
   "metadata": {},
   "outputs": [],
   "source": [
    "# norbert optimized (218303-218207)\n",
    "acc = (0.8556 +  0.8588 +  0.8555  + 0.8580 + 0.8594)/5\n",
    "f1 = (0.7153 + 0.7250 +  0.7235 +  0.7153 + 0.7184 )/5\n",
    "display(acc)\n",
    "display(f1)"
   ]
  },
  {
   "cell_type": "code",
   "execution_count": null,
   "id": "092d953c",
   "metadata": {},
   "outputs": [],
   "source": [
    "# notram base optimized (218308-218312)\n",
    "acc = (0.8657 + 0.8683 + 0.8679 + 0.8652 +  0.8669  )/5\n",
    "f1 = (0.7381 + 0.7369 + 0.7405 + 0.7340 + 0.7389)/5\n",
    "display(acc)\n",
    "display(f1)"
   ]
  },
  {
   "cell_type": "code",
   "execution_count": null,
   "id": "06902966",
   "metadata": {},
   "outputs": [],
   "source": [
    "# notram large optimized (218976-218980)\n",
    "acc = (0.8670 + 0.8613 + 0.8647 +  0.8673 + 0.8670)/5\n",
    "f1 = (0.7510 + 0.7550 + 0.7547 +  0.7571 +  0.7527 )/5\n",
    "display(acc)\n",
    "display(f1)"
   ]
  },
  {
   "cell_type": "code",
   "execution_count": null,
   "id": "fdede63e",
   "metadata": {},
   "outputs": [],
   "source": [
    "# mbert cased optimized (218293-218297)\n",
    "print(\"Neutral:\")\n",
    "print(\"P:\",(0.8879 + 0.8898 + 0.8860 + 0.8903 + 0.8885)/5)\n",
    "print(\"R:\",(0.9388 + 0.9375 + 0.9398 + 0.9339 + 0.9361)/5)\n",
    "print(\"F1\",(0.9127 + 0.9130 + 0.9121 + 0.9115 + 0.9117 )/5)\n",
    "print(\"Offensive:\")\n",
    "print(\"P:\",(0.5777 + 0.5793 + 0.5744 + 0.5683 + 0.5701 )/5)\n",
    "print(\"R:\",(0.4138 + 0.4258 + 0.4017 + 0.4306 + 0.4191)/5)\n",
    "print(\"F1\",(0.4822 + 0.4908 + 0.4728 + 0.4900 + 0.4831)/5)"
   ]
  },
  {
   "cell_type": "code",
   "execution_count": null,
   "id": "be16db6d",
   "metadata": {},
   "outputs": [],
   "source": [
    "# mbert uncased optimized (218298-218202)\n",
    "print(\"Neutral:\")\n",
    "print(\"P:\",(0.8889 + 0.8910 + 0.8867 + 0.8870 + 0.8886)/5)\n",
    "print(\"R:\",(0.9302 + 0.9279 + 0.9341 + 0.9298 + 0.9342)/5)\n",
    "print(\"F1\",(0.9091 + 0.9091 + 0.9098 + 0.9079 + 0.9108)/5)\n",
    "print(\"Offensive:\")\n",
    "print(\"P:\",(0.5516 + 0.5515 + 0.5569 + 0.5440 + 0.5639)/5)\n",
    "print(\"R:\",(0.4249 + 0.4383 + 0.4099 + 0.4143 + 0.4210)/5)\n",
    "print(\"F1\",(0.4800 + 0.4885 + 0.4723 + 0.4703 + 0.4821)/5)"
   ]
  },
  {
   "cell_type": "code",
   "execution_count": null,
   "id": "74cc59e4",
   "metadata": {},
   "outputs": [],
   "source": [
    "# norbert optimized (218303-218207)\n",
    "print(\"Neutral:\")\n",
    "print(\"P:\",(0.8950 + 0.8988 + 0.9000 + 0.8937 + 0.8946)/5)\n",
    "print(\"R:\",(0.9363 + 0.9355 + 0.9295 + 0.9413 + 0.9419)/5)\n",
    "print(\"F1\",(0.9152 + 0.9168 + 0.9145 + 0.9169 + 0.9176)/5)\n",
    "print(\"Offensive:\")\n",
    "print(\"P:\",(0.5918 + 0.6005 + 0.5839 + 0.6056 + 0.6108)/5)\n",
    "print(\"R:\",(0.4566 + 0.4793 + 0.4894 + 0.4461 + 0.4513)/5)\n",
    "print(\"F1\",(0.5155 + 0.5331 + 0.5325 + 0.5137 + 0.5191)/5)"
   ]
  },
  {
   "cell_type": "code",
   "execution_count": null,
   "id": "9aa6c9b5",
   "metadata": {},
   "outputs": [],
   "source": [
    "# notram base optimized (218308-218312)\n",
    "print(\"Neutral:\")\n",
    "print(\"P:\",(0.9026 + 0.9002 + 0.9003 + 0.9023 + 0.9027)/5)\n",
    "print(\"R:\",(0.9399 + 0.9466 + 0.9422 + 0.9420 + 0.9428)/5)\n",
    "print(\"F1\",(0.9209 + 0.9228 + 0.9208 + 0.9217 + 0.9223)/5)\n",
    "print(\"Offensive:\")\n",
    "print(\"P:\",(0.6265 + 0.6455 + 0.6289 + 0.6332 + 0.6374 )/5)\n",
    "print(\"R:\",(0.4986 + 0.4807 + 0.4841 + 0.4957 + 0.4971)/5)\n",
    "print(\"F1\",(0.5553 + 0.5511 + 0.5471 + 0.5561 + 0.5586)/5)"
   ]
  },
  {
   "cell_type": "code",
   "execution_count": null,
   "id": "30d8db06",
   "metadata": {},
   "outputs": [],
   "source": [
    "# notram large optimized (218976-218980)\n",
    "print(\"Neutral:\")\n",
    "print(\"P:\",(0.9108 + 0.9191 + 0.9157 + 0.9153 + 0.9120)/5)\n",
    "print(\"R:\",(0.9313 + 0.9137 + 0.9223 + 0.9262 + 0.9298)/5)\n",
    "print(\"F1\",(0.9209 + 0.9164 + 0.9190 + 0.9207 + 0.9208 )/5)\n",
    "print(\"Offensive:\")\n",
    "print(\"P:\",(0.6177 + 0.5852 + 0.6014 + 0.6121 + 0.6157)/5)\n",
    "print(\"R:\",(0.5487 + 0.6021 + 0.5800 + 0.5761 + 0.5564)/5)\n",
    "print(\"F1\",(0.5811 + 0.5935 + 0.5905 + 0.5935 + 0.5845)/5)"
   ]
  },
  {
   "cell_type": "code",
   "execution_count": null,
   "id": "0e78b94f",
   "metadata": {},
   "outputs": [],
   "source": [
    "# Undersample (254589-254593)\n",
    "print(\"Neutral:\")\n",
    "print(\"P:\",(0.9397 + 0.9357 + 0.9390 + 0.9413 + 0.9338)/5)\n",
    "print(\"R:\",(0.8539 + 0.8614 + 0.8593 + 0.8551 + 0.8703)/5)\n",
    "print(\"F1\",(0.8947 + 0.8970 + 0.8974 + 0.8961 + 0.9009 )/5)\n",
    "print(\"Offensive:\")\n",
    "print(\"P:\",(0.5022 + 0.5078 + 0.5098 + 0.5066 + 0.5198)/5)\n",
    "print(\"R:\",(0.7288 + 0.7071 + 0.7240 + 0.7360 + 0.6946)/5)\n",
    "print(\"F1\",(0.5946 + 0.5911 + 0.5983 + 0.6002 + 0.5946)/5)\n",
    "\n",
    "\n",
    "# notram large optimized (218288-218292)\n",
    "acc = (0.8329 + 0.8355 + 0.8365 + 0.8351 + 0.8407)/5\n",
    "f1 = (0.7447 + 0.7441 + 0.7479 + 0.7481 + 0.7478)/5\n",
    "display(acc)\n",
    "display(f1)"
   ]
  },
  {
   "cell_type": "code",
   "execution_count": null,
   "id": "b9180f50",
   "metadata": {},
   "outputs": [],
   "source": [
    "# Notram large optimized - final optimization (320026-320030)\n",
    "print(\"Neutral:\")\n",
    "print(\"P:\",(0.9077 + 0.9149 + 0.9156 + 0.9143 + 0.9137)/5)\n",
    "print(\"R:\",(0.9310 + 0.9229 + 0.9244 + 0.9268 + 0.9298)/5)                                   \n",
    "print(\"F1\",(0.9192 + 0.9189 + 0.9200 + 0.9205 + 0.9217)/5)         \n",
    "print(\"Offensive:\")\n",
    "print(\"P:\",(0.6089 + 0.6014 + 0.6075 + 0.6116 + 0.6195)/5)                \n",
    "print(\"R:\",(0.5318 + 0.5756 + 0.5785 + 0.5703 + 0.5655)/5)           \n",
    "print(\"F1\",(0.5678 + 0.5882 + 0.5926 + 0.5902 + 0.5913)/5)\n",
    "\n",
    "\n",
    "# notram large optimized (218288-218292)\n",
    "acc = (0.8638 + 0.8645 + 0.8663 + 0.8668 + 0.8685)/5\n",
    "f1  = (0.7435 + 0.7536 + 0.7563 + 0.7554 + 0.7565)/5\n",
    "display(acc)\n",
    "display(f1)"
   ]
  },
  {
   "cell_type": "code",
   "execution_count": null,
   "id": "f41f979a",
   "metadata": {},
   "outputs": [],
   "source": [
    "# Notram large optimized - final optimization (326150-326155)\n",
    "print(\"Neutral:\")\n",
    "print(\"P:\",(0.9129 + 0.9098 + 0.9102 + 0.9073 + 0.9112)/5)\n",
    "print(\"R:\",(0.9242 + 0.9263 + 0.9235 + 0.9312 + 0.9276)/5)                                                                  \n",
    "print(\"F1\",(0.9186 + 0.9180 + 0.9168 + 0.9191 + 0.9194)/5)                  \n",
    "print(\"Offensive:\")\n",
    "print(\"P:\",(0.6008 + 0.5995 + 0.5921 + 0.6089 + 0.6071)/5)                                \n",
    "print(\"R:\",(0.5641 + 0.5458 + 0.5496 + 0.5294 + 0.5530)/5)                               \n",
    "print(\"F1\",(0.5819 + 0.5714 + 0.5701 + 0.5663 + 0.5788)/5)\n",
    "\n",
    "\n",
    "# notram large optimized (218288-218292)\n",
    "acc = (0.8637 + 0.8623 + 0.8606 + 0.8637 + 0.8646)/5\n",
    "f1  = (0.7502 + 0.7447 + 0.7434 + 0.7427 + 0.7491)/5\n",
    "display(acc)\n",
    "display(f1)"
   ]
  },
  {
   "cell_type": "code",
   "execution_count": null,
   "id": "a4368fda",
   "metadata": {},
   "outputs": [],
   "source": [
    "# Notram merged - optimized (329727-329731)\n",
    "print(\"Neutral:\")\n",
    "print(\"P:\",(0.9166 + 0.9162 + 0.9143 + 0.9159 + 0.9152)/5)        \n",
    "print(\"R:\",(0.9256 + 0.9241 + 0.9282 + 0.9280 + 0.9269)/5)                                                                     \n",
    "print(\"F1\",(0.9211 + 0.9201 + 0.9212 + 0.9219 + 0.9210)/5)                \n",
    "print(\"Offensive:\")\n",
    "print(\"P:\",(0.6132 + 0.6080 + 0.6161 + 0.6191 + 0.6139)/5)                \n",
    "print(\"R:\",(0.5833 + 0.5819 + 0.5698 + 0.5785 + 0.5751)/5)                                            \n",
    "print(\"F1\",(0.5979 + 0.5946 + 0.5921 + 0.5981 + 0.5939)/5)\n",
    "\n",
    "\n",
    "# notram large optimized (218288-218292)\n",
    "acc = (0.8680 + 0.8666 + 0.8680 + 0.8692 + 0.8677)/5\n",
    "f1  = (0.7595 + 0.7574 + 0.7567 + 0.7600 + 0.7574)/5\n",
    "display(acc)\n",
    "display(f1)"
   ]
  },
  {
   "cell_type": "code",
   "execution_count": null,
   "id": "171fca03",
   "metadata": {},
   "outputs": [],
   "source": [
    "# Notram train_dk - optimized (326514-326518) test (ikke brukt) \n",
    "print(\"Neutral:\")\n",
    "print(\"P:\",(0.8318 + 0.8514 + 0.8408 + 0.8637 + 0.8597)/5)                 \n",
    "print(\"R:\",(1.0000 + 0.9797 + 0.9936 + 0.9579 + 0.9709)/5)                                                                                                 \n",
    "print(\"F1\",(0.9082 + 0.9111 + 0.9108 + 0.9084 + 0.9119)/5)                \n",
    "print(\"Offensive:\")\n",
    "print(\"P:\",(0 + 0.6061 + 0.6857 + 0.5481 + 0.6003)/5)                                  \n",
    "print(\"R:\",(0 + 0.1541 + 0.0694 + 0.2524 + 0.2163)/5)                                                             \n",
    "print(\"F1\",(0 + 0.2458 + 0.1260 + 0.3456 + 0.3180)/5)\n",
    "\n",
    "\n",
    "# notram large optimized (218288-218292)\n",
    "acc = (0.8318 + 0.8409 + 0.8381 + 0.8393 + 0.8440 )/5\n",
    "f1  = (0.4541 + 0.5784 + 0.5184 + 0.6270 + 0.6149 )/5\n",
    "display(acc)\n",
    "display(f1)"
   ]
  },
  {
   "cell_type": "code",
   "execution_count": null,
   "id": "165807be",
   "metadata": {},
   "outputs": [],
   "source": [
    "# Notram train_dk - optimized (328338-328342) 256\n",
    "print(\"Neutral:\")\n",
    "print(\"P:\",(0.8536 + 0.8320 + 0.8537 + 0.8588 + 0.8529)/5)                 \n",
    "print(\"R:\",(0.9769 + 0.9998 + 0.9753 + 0.9727 + 0.9783)/5)                                                                                                                \n",
    "print(\"F1\",(0.9111 + 0.9082 + 0.9104 + 0.9122 + 0.9113)/5)                                   \n",
    "print(\"Offensive:\")     \n",
    "print(\"P:\",(0.5997 + 0.6000 + 0.5863 + 0.6078 + 0.6067)/5)                                  \n",
    "print(\"R:\",(0.1710 + 0.0014 + 0.1734 + 0.2091 + 0.1657)/5)                                                                                        \n",
    "print(\"F1\",(0.2661 + 0.0029 + 0.2677 + 0.3111 + 0.2603)/5)        \n",
    "\n",
    "\n",
    "# notram large optimized (218288-218292)\n",
    "acc = (0.8414 + 0.8319 + 0.8404 + 0.8443 + 0.8416)/5\n",
    "f1  = (0.5886 + 0.4555 + 0.5891 + 0.6117 + 0.5858)/5\n",
    "display(acc)\n",
    "display(f1)"
   ]
  },
  {
   "cell_type": "markdown",
   "id": "7e904a74",
   "metadata": {},
   "source": [
    "## Calculations of Svanes and Majority Baseline"
   ]
  },
  {
   "cell_type": "code",
   "execution_count": null,
   "id": "d82c86cb",
   "metadata": {},
   "outputs": [],
   "source": [
    "def accuracy(tp, fp, tn, fn):\n",
    "    return (tp + tn) / (tp + fp + tn + fn)\n",
    "\n",
    "def f1_score(tp, fp, tn, fn):\n",
    "    return tp / (tp + 0.5*(fp+fn))\n",
    "\n",
    "def macro_f1(tp, fp, tn, fn):\n",
    "    return (f1_score(tp, fp, tn, fn) + f1_score(tn, fn, tp, fp))/2\n",
    "\n",
    "def micro_f1(tp, fp, tn, fn):\n",
    "    return (tp + tn)/((tp + tn) + 0.5*(fp+fn + fp + fn))\n",
    "\n",
    "def precision(tp, fp, tn, fn):\n",
    "    return tp / (tp + fp)\n",
    "\n",
    "def recall(tp, fp, tn, fn):\n",
    "    return tp / (tp + fn)"
   ]
  },
  {
   "cell_type": "code",
   "execution_count": null,
   "id": "72308f42",
   "metadata": {},
   "outputs": [],
   "source": [
    "# Majority baseline offensive for test dataset \n",
    "acc = (12344-2076)/12344\n",
    "f1  = macro_f1((12344-2027), 2076, 0, 0)\n",
    "\n",
    "display(acc)\n",
    "display(f1)"
   ]
  },
  {
   "cell_type": "code",
   "execution_count": null,
   "id": "d64afc5b",
   "metadata": {},
   "outputs": [],
   "source": [
    "# Majority baseline hate for test dataset \n",
    "acc = (2076-207)/2076\n",
    "f1  = macro_f1((2076-207), 207, 0, 0)\n",
    "\n",
    "display(acc)\n",
    "display(f1)\n",
    "\n",
    "micro_f1  = micro_f1((2076-207), 207, 0, 0)\n",
    "display(micro_f1)"
   ]
  },
  {
   "cell_type": "markdown",
   "id": "4d718262",
   "metadata": {},
   "source": [
    "Two-step approach hate "
   ]
  },
  {
   "cell_type": "code",
   "execution_count": null,
   "id": "79de6269",
   "metadata": {},
   "outputs": [],
   "source": [
    "# LTR hate \n",
    "acc = accuracy((1+1+1+2),(4+3+3+2),(111+14+55+23),(28+10+8))\n",
    "f1 = macro_f1((1+1+1+2),(4+3+3+2),(11+14+55+23),(28+10+8))\n",
    "display(acc)\n",
    "display(f1)"
   ]
  },
  {
   "cell_type": "code",
   "execution_count": null,
   "id": "f23cf0ed",
   "metadata": {},
   "outputs": [],
   "source": [
    "# LR m/ TF-IDF hate\n",
    "acc = accuracy((5+2+1),(8+6+1),(124+14+60+25),(31+13+16+3))\n",
    "f1 = macro_f1((5+2+1),(8+6+1),(124+14+60+25),(31+13+16+3))\n",
    "display(acc)\n",
    "display(f1)"
   ]
  },
  {
   "cell_type": "code",
   "execution_count": null,
   "id": "4a365fb1",
   "metadata": {},
   "outputs": [],
   "source": [
    "# Linear SVM hate\n",
    "acc = accuracy((27+3+6+17),(43+19+30+8),(451+74+149+62),(44+21+20+5))\n",
    "f1 = macro_f1((27+3+6+17),(43+19+30+8),(451+74+149+62),(44+21+20+5))\n",
    "display(acc)\n",
    "display(f1)"
   ]
  },
  {
   "cell_type": "code",
   "execution_count": null,
   "id": "ca09474e",
   "metadata": {},
   "outputs": [],
   "source": [
    "# LSTM hate\n",
    "acc = accuracy((4+2),(9+5),(309+73+167+45),(48+21+33+8))\n",
    "f1 = macro_f1((4+2),(9+5),(309+73+167+45),(48+21+33+8))\n",
    "display(acc)\n",
    "display(f1)"
   ]
  },
  {
   "cell_type": "code",
   "execution_count": null,
   "id": "524278e3",
   "metadata": {},
   "outputs": [],
   "source": [
    "# Precision and recall for best model (linearSVM)  tp, fp, tn, fn\n",
    "\n",
    "# HS detection\n",
    "print(\"hate:\")\n",
    "p = precision((27+3+6+17), (43+19+30+8), (451+ 74+149+62), (44+21+20+5))\n",
    "r = recall((27+3+6+17), (43+19+30+8), (451+ 74+149+62), (44+21+20+5))\n",
    "f1 = f1_score((27+3+6+17), (43+19+30+8), (451+ 74+149+62), (44+21+20+5))\n",
    "display(p)\n",
    "display(r)\n",
    "display(f1)\n",
    "print(\"offensive:\")\n",
    "p = precision( (451+ 74+149+62), (44+21+20+5), (27+3+6+17), (43+19+30+8))\n",
    "r = recall((451+ 74+149+62), (44+21+20+5), (27+3+6+17), (43+19+30+8))\n",
    "f1 = f1_score((451+ 74+149+62), (44+21+20+5), (27+3+6+17), (43+19+30+8))\n",
    "display(p)\n",
    "display(r)\n",
    "display(f1)"
   ]
  },
  {
   "cell_type": "code",
   "execution_count": null,
   "id": "2dd13c25",
   "metadata": {},
   "outputs": [],
   "source": [
    "# OFF detection\n",
    "print(\"offensive\")\n",
    "p = precision(979,1405,8826, 1106)\n",
    "r = recall(979,1405,8826, 1106)\n",
    "f1 = f1_score(979,1405,8826, 1106)\n",
    "display(p)\n",
    "display(r)\n",
    "display(f1)\n",
    "\n",
    "print(\"neutral:\")\n",
    "p = precision(8826, 1106,979,1405)\n",
    "r = recall(8826, 1106,979,1405)\n",
    "f1 = f1_score(8826, 1106,979,1405)\n",
    "display(p)\n",
    "display(r)\n",
    "display(f1)"
   ]
  },
  {
   "cell_type": "code",
   "execution_count": null,
   "id": "c9c1acb6",
   "metadata": {},
   "outputs": [],
   "source": [
    "# Majority baseline tp, fp, tn, fn\n",
    "print(\"Hate speech\")\n",
    "print(\"precision\", precision(0,0,(4984-553), 553))\n",
    "print(\"recall\", recall(0,0,(4984-553), 553))\n",
    "print(\"f1\", f1(0,0,(4984-553), 553))"
   ]
  },
  {
   "cell_type": "markdown",
   "id": "395a27e7",
   "metadata": {},
   "source": [
    "# Results Analysis"
   ]
  },
  {
   "cell_type": "code",
   "execution_count": null,
   "id": "b0f3077f",
   "metadata": {},
   "outputs": [],
   "source": [
    "import pandas as pd\n",
    "import os"
   ]
  },
  {
   "cell_type": "code",
   "execution_count": null,
   "id": "f3089025",
   "metadata": {},
   "outputs": [],
   "source": [
    "for x in test[test.hateful == 1].cleaned:\n",
    "    print(x)\n",
    "    print()"
   ]
  },
  {
   "cell_type": "code",
   "execution_count": null,
   "id": "70742279",
   "metadata": {},
   "outputs": [],
   "source": [
    "test = pd.read_csv('/Users/vildearntzen/Desktop/master_kode/master_kode/data/no_test.csv')\n",
    "off_pred = pd.read_csv('/Users/vildearntzen/Desktop/master_kode/master_kode/data/predictions/off_pred.csv',header = None)\n",
    "hat_pred = pd.read_csv('/Users/vildearntzen/Desktop/master_kode/master_kode/data/predictions/hat_pred.csv',header = None)\n",
    "no = pd.read_csv('/Users/vildearntzen/Desktop/master_kode/master_kode/data/no_full_dataset.csv')"
   ]
  },
  {
   "cell_type": "code",
   "execution_count": null,
   "id": "b6c5fc9e",
   "metadata": {},
   "outputs": [],
   "source": [
    "off = test \n",
    "off[\"off_pred\"] = off_pred[0].apply(int)\n",
    "hate = test[test.hateful != -1].reset_index()\n",
    "hate[\"hat_pred\"] = hat_pred[0].apply(int)"
   ]
  },
  {
   "cell_type": "code",
   "execution_count": null,
   "id": "98c9da42",
   "metadata": {},
   "outputs": [],
   "source": [
    "hate[hate.cleaned == \"Navn Navn Ville kanskje vurdert å sterilisere meg snart, om jeg var deg! Men det er jeg jo ikke☺️\"]"
   ]
  },
  {
   "cell_type": "code",
   "execution_count": null,
   "id": "13cfed91",
   "metadata": {},
   "outputs": [],
   "source": [
    "hate[hate.cleaned == 'Nå må noe skje i vårt lille land. Vi kan ikke hente radikaliserte 🐭limer som frivillig har meldt seg til tjeneste for en syk ideologi, verre enn nazistene, tilbake til Norge. Ta barna fra disse syke mennesker, og gi de ett verdig liv. Det har de..' ][\"cleaned\"][597]"
   ]
  },
  {
   "cell_type": "code",
   "execution_count": null,
   "id": "7d80b062",
   "metadata": {},
   "outputs": [],
   "source": [
    "print('Nå må noe skje i vårt lille land. Vi kan ikke hente radikaliserte 🐭limer som frivillig har meldt seg til tjeneste \\nfor en syk ideologi, verre enn nazistene, tilbake til Norge. Ta barna fra disse syke mennesker, og gi de ett verdig \\nliv. Det har de..')"
   ]
  },
  {
   "cell_type": "markdown",
   "id": "4a26b7ff",
   "metadata": {},
   "source": [
    "## Offensive"
   ]
  },
  {
   "cell_type": "markdown",
   "id": "09eecf5a",
   "metadata": {},
   "source": [
    "'Som vanlig, tullballeri fra bedreviteren Hagtvedt.'"
   ]
  },
  {
   "cell_type": "code",
   "execution_count": null,
   "id": "0c7a631d",
   "metadata": {},
   "outputs": [],
   "source": [
    "off_tp = off.loc[(off.off_pred == off.offensive) & (off.offensive == 1)].sample(85)\n",
    "off_fn = test.loc[(off.off_pred != off.offensive) & (off.offensive == 1)].sample(85)\n",
    "\n",
    "\n",
    "off_tn =  off.loc[(off.off_pred == off.offensive) & (off.offensive == 0)].sample(85)\n",
    "off_fp = test.loc[(off.off_pred != off.offensive) & (off.offensive == 0)].sample(85)"
   ]
  },
  {
   "cell_type": "code",
   "execution_count": null,
   "id": "357f9271",
   "metadata": {},
   "outputs": [],
   "source": [
    "for text in off_tn.text:\n",
    "    display(text)"
   ]
  },
  {
   "cell_type": "code",
   "execution_count": null,
   "id": "83300eee",
   "metadata": {},
   "outputs": [],
   "source": [
    "for text in off_fp.text:\n",
    "    display(text)"
   ]
  },
  {
   "cell_type": "code",
   "execution_count": null,
   "id": "3f4caa3c",
   "metadata": {},
   "outputs": [],
   "source": [
    "for text in off_tp.text:\n",
    "    display(text)"
   ]
  },
  {
   "cell_type": "code",
   "execution_count": null,
   "id": "ef3ef23f",
   "metadata": {},
   "outputs": [],
   "source": [
    "for text in off_fn.cleaned:\n",
    "    display(text)"
   ]
  },
  {
   "cell_type": "code",
   "execution_count": null,
   "id": "cca8897e",
   "metadata": {},
   "outputs": [],
   "source": [
    "#off[\"category\"] = no[no.id == off.id][\"category\"]\n",
    "\n",
    "df = pd.merge(off, no[[\"category\", \"id\"]], on=['id'])"
   ]
  },
  {
   "cell_type": "code",
   "execution_count": null,
   "id": "39e9d7d6",
   "metadata": {},
   "outputs": [],
   "source": [
    "# percentage of the provocative comments wrongly classified\n",
    "len(df.loc[(df.off_pred == 0) & (df.category == 2)])/len(df[df.category == 2])"
   ]
  },
  {
   "cell_type": "code",
   "execution_count": null,
   "id": "043986ff",
   "metadata": {},
   "outputs": [],
   "source": [
    "# percentage of the offensive comments wrongly classified\n",
    "len(df.loc[(df.off_pred == 0) & (df.category == 3)])/len(df[df.category == 3])"
   ]
  },
  {
   "cell_type": "code",
   "execution_count": null,
   "id": "7fa5ce2a",
   "metadata": {},
   "outputs": [],
   "source": [
    "# percentage of the moderately hateful comments wrongly classified\n",
    "len(df.loc[(df.off_pred == 0) & (df.category == 4)])/len(df[df.category == 4])"
   ]
  },
  {
   "cell_type": "code",
   "execution_count": null,
   "id": "49d2834b",
   "metadata": {},
   "outputs": [],
   "source": [
    "# percentage of the hateful comments wrongly classified\n",
    "len(df.loc[(df.off_pred == 0) & (df.category == 5)])/len(df[df.category == 5])"
   ]
  },
  {
   "cell_type": "markdown",
   "id": "5a939432",
   "metadata": {},
   "source": [
    "## Hateful"
   ]
  },
  {
   "cell_type": "code",
   "execution_count": null,
   "id": "a929e349",
   "metadata": {},
   "outputs": [],
   "source": [
    "display(len(hate.loc[(hate.hat_pred == hate.hateful) & (hate.hateful == 1)]))\n",
    "display(len(hate.loc[(hate.hat_pred != hate.hateful) & (hate.hateful == 1)]))"
   ]
  },
  {
   "cell_type": "code",
   "execution_count": null,
   "id": "f9b85d40",
   "metadata": {},
   "outputs": [],
   "source": [
    "len(hate.loc[(hate.hat_pred != hate.hateful) & (hate.hateful != 1)])"
   ]
  },
  {
   "cell_type": "code",
   "execution_count": null,
   "id": "e762bcf8",
   "metadata": {},
   "outputs": [],
   "source": [
    "len(hate.loc[(hate.hat_pred != hate.hateful) & (hate.hateful == 1)])"
   ]
  },
  {
   "cell_type": "code",
   "execution_count": null,
   "id": "370b1dec",
   "metadata": {},
   "outputs": [],
   "source": [
    "hat_tp = hate.loc[(hate.hat_pred == hate.hateful) & (hate.hateful == 1)].sample(85)\n",
    "hat_fn = hate.loc[(hate.hat_pred != hate.hateful) & (hate.hateful == 1)].sample(85)\n",
    "\n",
    "hat_tn = hate.loc[(hate.hat_pred == hate.hateful) & (hate.hateful == 0)].sample(85)\n",
    "hat_fp = hate.loc[(hate.hat_pred != hate.hateful) & (hate.hateful == 0)].sample(85)"
   ]
  },
  {
   "cell_type": "code",
   "execution_count": null,
   "id": "ef102f77",
   "metadata": {},
   "outputs": [],
   "source": [
    "for text in hat_tn.cleaned:\n",
    "    display(text)"
   ]
  },
  {
   "cell_type": "code",
   "execution_count": null,
   "id": "7843d8cb",
   "metadata": {},
   "outputs": [],
   "source": [
    "for text in hat_fp.cleaned:\n",
    "    display(text)"
   ]
  },
  {
   "cell_type": "code",
   "execution_count": null,
   "id": "8f1b5723",
   "metadata": {},
   "outputs": [],
   "source": [
    "for text in hat_tp.cleaned:\n",
    "    display(text)"
   ]
  },
  {
   "cell_type": "code",
   "execution_count": null,
   "id": "25c046c5",
   "metadata": {},
   "outputs": [],
   "source": [
    "for text in hat_fn.cleaned:\n",
    "    display(text)"
   ]
  },
  {
   "cell_type": "code",
   "execution_count": null,
   "id": "ec2a9ca0",
   "metadata": {},
   "outputs": [],
   "source": [
    "df = pd.merge(hate, no[[\"category\", \"id\"]], on=['id'])"
   ]
  },
  {
   "cell_type": "code",
   "execution_count": null,
   "id": "a3962f4b",
   "metadata": {},
   "outputs": [],
   "source": [
    "# percentage of the moderately hateful comments wrongly classified\n",
    "len(df.loc[(df.hat_pred == 0) & (df.category == 4)])/len(df[df.category == 4])"
   ]
  },
  {
   "cell_type": "code",
   "execution_count": null,
   "id": "f62a26bf",
   "metadata": {},
   "outputs": [],
   "source": [
    "# percentage of the hateful comments wrongly classified\n",
    "len(df.loc[(df.hat_pred == 0) & (df.category == 5)])/len(df[df.category == 5])"
   ]
  },
  {
   "cell_type": "markdown",
   "id": "53f12af9",
   "metadata": {},
   "source": [
    "# Merged Experiment"
   ]
  },
  {
   "cell_type": "markdown",
   "id": "dad43f07",
   "metadata": {},
   "source": [
    "## Hate"
   ]
  },
  {
   "cell_type": "markdown",
   "id": "204fe185",
   "metadata": {},
   "source": [
    "### Choosing data/translator"
   ]
  },
  {
   "cell_type": "code",
   "execution_count": null,
   "id": "8bdf79a4",
   "metadata": {},
   "outputs": [],
   "source": [
    "# 1.2B (247468-247472)\n",
    "f1 = (0.6185 + 0.6438 + 0.6175 + 0.6372 + 0.6601)/5\n",
    "f1"
   ]
  },
  {
   "cell_type": "code",
   "execution_count": null,
   "id": "a8dbd69d",
   "metadata": {},
   "outputs": [],
   "source": [
    "(0.8974 + 0.8969 + 0.8878 + 0.8950 + 0.8902)/5"
   ]
  },
  {
   "cell_type": "code",
   "execution_count": null,
   "id": "2f981b80",
   "metadata": {},
   "outputs": [],
   "source": [
    "# 418M (247472-247476)\n",
    "f1 = ( 0.6548 + 0.6042 + 0.6398 + 0.6373 + 0.6374)/5\n",
    "f1"
   ]
  },
  {
   "cell_type": "code",
   "execution_count": null,
   "id": "2f1bb20c",
   "metadata": {},
   "outputs": [],
   "source": [
    "(0.9013 + 0.8878 + 0.8955 + 0.8935 + 0.9032)/5"
   ]
  },
  {
   "cell_type": "code",
   "execution_count": null,
   "id": "f6db4ba7",
   "metadata": {},
   "outputs": [],
   "source": [
    "# raw dataset (247477-247481)\n",
    "f1 = (0.6458 + 0.6406 + 0.6507 + 0.6242 + 0.6469)/5\n",
    "f1"
   ]
  },
  {
   "cell_type": "code",
   "execution_count": null,
   "id": "dd078a64",
   "metadata": {},
   "outputs": [],
   "source": [
    "(0.8998 + 0.8931 + 0.9046 +  0.8931 +  0.8921)/5"
   ]
  },
  {
   "cell_type": "code",
   "execution_count": null,
   "id": "c148ade4",
   "metadata": {},
   "outputs": [],
   "source": [
    "# opus-mt (247482-247486)\n",
    "f1 = (0.6134 + 0.5511 + 0.6495 + 0.6108 + 0.6368)/5\n",
    "f1"
   ]
  },
  {
   "cell_type": "code",
   "execution_count": null,
   "id": "9a539658",
   "metadata": {},
   "outputs": [],
   "source": [
    "(0.8897 + 0.9003 + 0.8940 + 0.8969 + 0.8993)/5"
   ]
  },
  {
   "cell_type": "code",
   "execution_count": null,
   "id": "9c02533c",
   "metadata": {},
   "outputs": [],
   "source": [
    "# translatepy (247487-247491)\n",
    "f1 = (0.6214 + 0.6084 +  0.6411 + 0.6282 + 0.6139)/5\n",
    "f1"
   ]
  },
  {
   "cell_type": "code",
   "execution_count": null,
   "id": "8b2d8248",
   "metadata": {},
   "outputs": [],
   "source": [
    "(0.8858 + 0.8911 + 0.8964 + 0.8897 + 0.8882)/5"
   ]
  },
  {
   "cell_type": "markdown",
   "id": "43ec0b4f",
   "metadata": {},
   "source": [
    "## Offensive"
   ]
  },
  {
   "cell_type": "code",
   "execution_count": null,
   "id": "60810892",
   "metadata": {},
   "outputs": [],
   "source": [
    "# 1.2B (249270, 251428-251431)\n",
    "f1 = (0.7548 + 0.7542 + 0.7562 + 0.7532 + 0.7537)/5\n",
    "f1"
   ]
  },
  {
   "cell_type": "code",
   "execution_count": null,
   "id": "dac11121",
   "metadata": {},
   "outputs": [],
   "source": [
    "(0.8675 + 0.8629 + 0.8675 + 0.8650 + 0.8645)/5"
   ]
  },
  {
   "cell_type": "code",
   "execution_count": null,
   "id": "9cae7045",
   "metadata": {},
   "outputs": [],
   "source": [
    "# 418M (249271, 249232-2492335)\n",
    "f1 = (0.7555 + 0.7570 + 0.7542 + 0.7571 + 0.7473)/5\n",
    "f1"
   ]
  },
  {
   "cell_type": "code",
   "execution_count": null,
   "id": "4f1caf54",
   "metadata": {},
   "outputs": [],
   "source": [
    "(0.8659 + 0.8664 + 0.8634 + 0.8661 + 0.8663)/5"
   ]
  },
  {
   "cell_type": "code",
   "execution_count": null,
   "id": "8fc690ae",
   "metadata": {},
   "outputs": [],
   "source": [
    "# raw dataset (249272, 249237-249240)\n",
    "f1 = (0.7570 + 0.7574 + 0.7548 + 0.7580 + 0.7557 )/5\n",
    "f1"
   ]
  },
  {
   "cell_type": "code",
   "execution_count": null,
   "id": "9377a698",
   "metadata": {},
   "outputs": [],
   "source": [
    "(0.8666 + 0.8675 + 0.8691 + 0.8668 + 0.8620)/5"
   ]
  },
  {
   "cell_type": "code",
   "execution_count": null,
   "id": "d8b4a703",
   "metadata": {},
   "outputs": [],
   "source": [
    "# opus-mt (249273, 249241-249244)\n",
    "f1 = (0.7558 + 0.7561 + 0.7550 + 0.7603 + 0.7565)/5\n",
    "f1"
   ]
  },
  {
   "cell_type": "code",
   "execution_count": null,
   "id": "fdba4aa5",
   "metadata": {},
   "outputs": [],
   "source": [
    "(0.8667 + 0.8680 + 0.8667 + 0.8680 + 0.8675)/5"
   ]
  },
  {
   "cell_type": "code",
   "execution_count": null,
   "id": "4a447818",
   "metadata": {},
   "outputs": [],
   "source": [
    "# translatepy(249274, 249245-249248)\n",
    "f1 = (0.7474 +  0.7521 + 0.7540 + 0.7544 + 0.7494)/5\n",
    "f1"
   ]
  },
  {
   "cell_type": "code",
   "execution_count": null,
   "id": "1b138320",
   "metadata": {},
   "outputs": [],
   "source": [
    "(0.8632 + 0.8684 + 0.8658 + 0.8648 + 0.8651)/5"
   ]
  },
  {
   "cell_type": "code",
   "execution_count": null,
   "id": "58613c2f",
   "metadata": {},
   "outputs": [],
   "source": [
    "import numpy as np\n",
    "import matplotlib.pyplot as plt\n",
    "\n",
    "data = [[30, 25, 50, 20],\n",
    "[40, 23, 51, 17],\n",
    "[35, 22, 45, 19]]\n",
    "X = np.arange(4)\n",
    "fig = plt.figure()\n",
    "ax = fig.add_axes([0,0,1,1])\n",
    "ax.bar(X + 0.00, data[0], color = 'b', width = 0.25)\n",
    "ax.bar(X + 0.25, data[1], color = 'g', width = 0.25)\n",
    "ax.bar(X + 0.50, data[2], color = 'r', width = 0.25)"
   ]
  },
  {
   "cell_type": "code",
   "execution_count": null,
   "id": "dfab402b",
   "metadata": {},
   "outputs": [],
   "source": [
    "import os\n",
    "os.getcwd()"
   ]
  },
  {
   "cell_type": "code",
   "execution_count": null,
   "id": "a3b1e0eb",
   "metadata": {},
   "outputs": [],
   "source": [
    "import numpy as np\n",
    "import matplotlib.pyplot as plt\n",
    "\n",
    "hate_tp = [4,4,23,37,13]\n",
    "hate_fn = [3,4,12,14,13]\n",
    "hate_tn = [4,6,13,4,6]\n",
    "hate_fp = [9,6,10,54,10]\n",
    "bars = ('Typo / Grammar \\n Mistakes', 'Dialect / Slang', 'Offensive Terms', 'Islam / Muslims', 'Immigration')\n",
    "\n",
    "X = np.arange(5)\n",
    "fig = plt.figure(figsize = (6.4*1.5, 4.8*1.5))\n",
    "\n",
    "ax = fig.add_axes([0,0,1,1])\n",
    "\n",
    "#ax.bar(X + 0.00, hate_tp, color = \"cadetblue\", width = 0.20)\n",
    "#ax.bar(X + 0.20, hate_fp, color = \"salmon\",width = 0.2)\n",
    "#ax.bar(X + 0.40, hate_tn, color = \"powderblue\", width = 0.2)\n",
    "#ax.bar(X + 0.60, hate_fn, color = \"peachpuff\",width = 0.20)\n",
    "\n",
    "ax.bar(X + 0.00, hate_tp, color = \"indianred\", width = 0.20)\n",
    "ax.bar(X + 0.20, hate_fp, color = \"lightcoral\",width = 0.2)\n",
    "ax.bar(X + 0.40, hate_fn, color = \"darkgray\",width = 0.20)\n",
    "ax.bar(X + 0.60, hate_tn, color = \"lightgray\", width = 0.2)\n",
    "\n",
    "\n",
    "plt.xticks(X, bars, rotation=45, fontsize=20)\n",
    "plt.yticks(fontsize=20)\n",
    "\n",
    "ax.legend(labels=['tp', 'fp', \"fn\", \"tn\"], fontsize=20)\n",
    "ax.set_ylabel('Number of instances', size= 20)\n",
    "#ax.set_title('Number of instances per category', size = 17, fontsize=20)\n",
    "plt.savefig('/Users/vildearntzen/Desktop/hate_speech_error_analysis.png')\n",
    "  "
   ]
  },
  {
   "cell_type": "code",
   "execution_count": null,
   "id": "2afb7dca",
   "metadata": {},
   "outputs": [],
   "source": [
    "import numpy as np\n",
    "import matplotlib.pyplot as plt\n",
    "\n",
    "off_tp = [9,5,10,16,15]\n",
    "off_fn = [7,4,3,9,7]\n",
    "off_tn = [2,7,0,4,3]\n",
    "off_fp = [3,9,5,12,9]\n",
    "bars = ('Typo / Grammar \\n Mistakes', 'Dialect / Slang', 'Offensive Terms', 'Islam / Muslims', 'Immigration')\n",
    "\n",
    "X = np.arange(5)\n",
    "fig = plt.figure(figsize = (6.4*1.5, 4.8*1.5))\n",
    "\n",
    "ax = fig.add_axes([0,0,1,1])\n",
    "\n",
    "ax.bar(X + 0.00, off_tp, color = \"indianred\", width = 0.20)\n",
    "ax.bar(X + 0.20, off_fp, color = \"lightcoral\",width = 0.2)\n",
    "ax.bar(X + 0.40, off_fn, color = \"darkgray\",width = 0.20)\n",
    "ax.bar(X + 0.60, off_tn, color = \"lightgray\", width = 0.2)\n",
    "\n",
    "\n",
    "\n",
    "\n",
    "\n",
    "plt.xticks(X, bars, rotation=45, fontsize=20)\n",
    "plt.yticks(fontsize=20)\n",
    "\n",
    "ax.legend(labels=['tp', 'fp', \"fn\", \"tn\"], fontsize = 20)\n",
    "ax.set_ylabel('Number of instances', size= 20)\n",
    "#ax.set_title('Number of instances per category', size = 17, fontsize=20)\n",
    "plt.savefig('/Users/vildearntzen/Desktop/offensive_language_error_analysis.png')\n",
    "  "
   ]
  }
 ],
 "metadata": {
  "kernelspec": {
   "display_name": "Python 3",
   "language": "python",
   "name": "python3"
  },
  "language_info": {
   "codemirror_mode": {
    "name": "ipython",
    "version": 3
   },
   "file_extension": ".py",
   "mimetype": "text/x-python",
   "name": "python",
   "nbconvert_exporter": "python",
   "pygments_lexer": "ipython3",
   "version": "3.8.3"
  }
 },
 "nbformat": 4,
 "nbformat_minor": 5
}
