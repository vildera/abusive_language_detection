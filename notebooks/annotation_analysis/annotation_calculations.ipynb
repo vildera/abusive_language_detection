{
 "cells": [
  {
   "cell_type": "markdown",
   "id": "ordered-thesis",
   "metadata": {},
   "source": [
    "# Annotator Agreement Calculations"
   ]
  },
  {
   "cell_type": "code",
   "execution_count": 1,
   "id": "virgin-symphony",
   "metadata": {},
   "outputs": [],
   "source": [
    "import pandas as pd\n",
    "from nltk import agreement\n",
    "\n",
    "import warnings\n",
    "warnings.filterwarnings(\"ignore\")"
   ]
  },
  {
   "cell_type": "code",
   "execution_count": 2,
   "id": "impaired-symphony",
   "metadata": {},
   "outputs": [
    {
     "data": {
      "text/html": [
       "<div>\n",
       "<style scoped>\n",
       "    .dataframe tbody tr th:only-of-type {\n",
       "        vertical-align: middle;\n",
       "    }\n",
       "\n",
       "    .dataframe tbody tr th {\n",
       "        vertical-align: top;\n",
       "    }\n",
       "\n",
       "    .dataframe thead th {\n",
       "        text-align: right;\n",
       "    }\n",
       "</style>\n",
       "<table border=\"1\" class=\"dataframe\">\n",
       "  <thead>\n",
       "    <tr style=\"text-align: right;\">\n",
       "      <th></th>\n",
       "      <th>id</th>\n",
       "      <th>text</th>\n",
       "      <th>source</th>\n",
       "      <th>category</th>\n",
       "      <th>kristoffer</th>\n",
       "      <th>vilde</th>\n",
       "      <th>sondre</th>\n",
       "      <th>mathias</th>\n",
       "    </tr>\n",
       "  </thead>\n",
       "  <tbody>\n",
       "    <tr>\n",
       "      <th>0</th>\n",
       "      <td>1226100821122834432</td>\n",
       "      <td>Det fører til en mer sivilisert debatt, når ma...</td>\n",
       "      <td>tw</td>\n",
       "      <td>1</td>\n",
       "      <td>1</td>\n",
       "      <td>1</td>\n",
       "      <td>1</td>\n",
       "      <td>1</td>\n",
       "    </tr>\n",
       "    <tr>\n",
       "      <th>1</th>\n",
       "      <td>11442</td>\n",
       "      <td>Navn Navn Navn en smule TDS på gang eller?</td>\n",
       "      <td>fb</td>\n",
       "      <td>1</td>\n",
       "      <td>1</td>\n",
       "      <td>1</td>\n",
       "      <td>1</td>\n",
       "      <td>2</td>\n",
       "    </tr>\n",
       "  </tbody>\n",
       "</table>\n",
       "</div>"
      ],
      "text/plain": [
       "                    id                                               text  \\\n",
       "0  1226100821122834432  Det fører til en mer sivilisert debatt, når ma...   \n",
       "1                11442         Navn Navn Navn en smule TDS på gang eller?   \n",
       "\n",
       "  source  category  kristoffer  vilde  sondre  mathias  \n",
       "0     tw         1           1      1       1        1  \n",
       "1     fb         1           1      1       1        2  "
      ]
     },
     "metadata": {},
     "output_type": "display_data"
    },
    {
     "data": {
      "text/html": [
       "<div>\n",
       "<style scoped>\n",
       "    .dataframe tbody tr th:only-of-type {\n",
       "        vertical-align: middle;\n",
       "    }\n",
       "\n",
       "    .dataframe tbody tr th {\n",
       "        vertical-align: top;\n",
       "    }\n",
       "\n",
       "    .dataframe thead th {\n",
       "        text-align: right;\n",
       "    }\n",
       "</style>\n",
       "<table border=\"1\" class=\"dataframe\">\n",
       "  <thead>\n",
       "    <tr style=\"text-align: right;\">\n",
       "      <th></th>\n",
       "      <th>id</th>\n",
       "      <th>text</th>\n",
       "      <th>source</th>\n",
       "      <th>category</th>\n",
       "      <th>sondre</th>\n",
       "      <th>mathias</th>\n",
       "      <th>vilde</th>\n",
       "      <th>kristoffer</th>\n",
       "    </tr>\n",
       "  </thead>\n",
       "  <tbody>\n",
       "    <tr>\n",
       "      <th>0</th>\n",
       "      <td>10667</td>\n",
       "      <td>De er helt ute og kjøre dette partiet Når ett ...</td>\n",
       "      <td>fb</td>\n",
       "      <td>2</td>\n",
       "      <td>1</td>\n",
       "      <td>3</td>\n",
       "      <td>2</td>\n",
       "      <td>2</td>\n",
       "    </tr>\n",
       "    <tr>\n",
       "      <th>1</th>\n",
       "      <td>10817</td>\n",
       "      <td>Knall ein biff i haue pån terje</td>\n",
       "      <td>fb</td>\n",
       "      <td>5</td>\n",
       "      <td>3</td>\n",
       "      <td>3</td>\n",
       "      <td>5</td>\n",
       "      <td>5</td>\n",
       "    </tr>\n",
       "  </tbody>\n",
       "</table>\n",
       "</div>"
      ],
      "text/plain": [
       "      id                                               text source  category  \\\n",
       "0  10667  De er helt ute og kjøre dette partiet Når ett ...     fb         2   \n",
       "1  10817                    Knall ein biff i haue pån terje     fb         5   \n",
       "\n",
       "   sondre  mathias  vilde  kristoffer  \n",
       "0       1        3      2           2  \n",
       "1       3        3      5           5  "
      ]
     },
     "metadata": {},
     "output_type": "display_data"
    }
   ],
   "source": [
    "df = pd.read_csv(\"annotated_combined.csv\")\n",
    "df_off = pd.read_csv(\"annotated_offensive_combined.csv\")\n",
    "\n",
    "display(df.head(2))\n",
    "display(df_off.head(2))"
   ]
  },
  {
   "cell_type": "code",
   "execution_count": 3,
   "id": "filled-exchange",
   "metadata": {},
   "outputs": [
    {
     "data": {
      "text/plain": [
       "200"
      ]
     },
     "execution_count": 3,
     "metadata": {},
     "output_type": "execute_result"
    }
   ],
   "source": [
    "len(df)"
   ]
  },
  {
   "cell_type": "code",
   "execution_count": 4,
   "id": "bored-spouse",
   "metadata": {},
   "outputs": [
    {
     "data": {
      "text/plain": [
       "100"
      ]
     },
     "execution_count": 4,
     "metadata": {},
     "output_type": "execute_result"
    }
   ],
   "source": [
    "len(df_off)"
   ]
  },
  {
   "cell_type": "code",
   "execution_count": 5,
   "id": "romance-convention",
   "metadata": {},
   "outputs": [],
   "source": [
    "df.vilde      = df.vilde.apply(int)\n",
    "df.kristoffer = df.kristoffer.apply(int)\n",
    "df.sondre     = df.sondre.apply(int)\n",
    "df.mathias    = df.mathias.apply(int)\n",
    "df.category   = df.category.apply(int)"
   ]
  },
  {
   "cell_type": "code",
   "execution_count": 6,
   "id": "turned-violence",
   "metadata": {},
   "outputs": [],
   "source": [
    "df_off.vilde      = df_off.vilde.apply(int)\n",
    "df_off.kristoffer = df_off.kristoffer.apply(int)\n",
    "df_off.sondre     = df_off.sondre.apply(int)\n",
    "df_off.mathias    = df_off.mathias.apply(int)\n",
    "df_off.category   = df_off.category.apply(int)"
   ]
  },
  {
   "cell_type": "markdown",
   "id": "suited-glossary",
   "metadata": {},
   "source": [
    "## Fleiss Kappa"
   ]
  },
  {
   "cell_type": "markdown",
   "id": "injured-absorption",
   "metadata": {},
   "source": [
    "### Three annotators"
   ]
  },
  {
   "cell_type": "markdown",
   "id": "crazy-wesley",
   "metadata": {},
   "source": [
    "All five classes (1-5)"
   ]
  },
  {
   "cell_type": "code",
   "execution_count": 7,
   "id": "mysterious-sixth",
   "metadata": {},
   "outputs": [],
   "source": [
    "list1 = df.sondre.values.tolist()\n",
    "list1 = list(map(int, list1))\n",
    "\n",
    "list2 = df.mathias.values.tolist()\n",
    "list2 = list(map(int, list2))\n",
    "\n",
    "list3 = df.vilde.values.tolist()\n",
    "list3 = list(map(int, list3))"
   ]
  },
  {
   "cell_type": "code",
   "execution_count": 8,
   "id": "published-occurrence",
   "metadata": {},
   "outputs": [
    {
     "name": "stdout",
     "output_type": "stream",
     "text": [
      "fleiss 0.3590874345857591\n",
      "alpha 0.3577892314047961\n",
      "scotts 0.356717093226841\n"
     ]
    }
   ],
   "source": [
    "taskdata=[[0,str(i),str(list1[i])] for i in range(0,len(list1))]+[[1,str(i),str(list2[i])] for i in range(0,len(list2))]+[[2,str(i),str(list3[i])] for i in range(0,len(list3))]\n",
    "ratingtask = agreement.AnnotationTask(data=taskdata)\n",
    "#print(\"kappa \" +str(ratingtask.kappa())) - gir ikke mening for tre annotators\n",
    "print(\"fleiss \" + str(ratingtask.multi_kappa()))\n",
    "print(\"alpha \" +str(ratingtask.alpha()))\n",
    "print(\"scotts \" + str(ratingtask.pi()))"
   ]
  },
  {
   "cell_type": "markdown",
   "id": "involved-chocolate",
   "metadata": {},
   "source": [
    "Only offensive classes (2-5)"
   ]
  },
  {
   "cell_type": "code",
   "execution_count": 9,
   "id": "recent-canyon",
   "metadata": {},
   "outputs": [],
   "source": [
    "list1 = df_off.sondre.values.tolist()\n",
    "list1 = list(map(int, list1))\n",
    "\n",
    "list2 = df_off.mathias.values.tolist()\n",
    "list2 = list(map(int, list2))\n",
    "\n",
    "list3 = df_off.vilde.values.tolist()\n",
    "list3 = list(map(int, list3))"
   ]
  },
  {
   "cell_type": "code",
   "execution_count": 10,
   "id": "consolidated-repository",
   "metadata": {},
   "outputs": [
    {
     "name": "stdout",
     "output_type": "stream",
     "text": [
      "fleiss 0.2693661971830987\n",
      "alpha 0.2629562531555344\n",
      "scotts 0.26049122390187407\n"
     ]
    }
   ],
   "source": [
    "taskdata=[[0,str(i),str(list1[i])] for i in range(0,len(list1))]+[[1,str(i),str(list2[i])] for i in range(0,len(list2))]+[[2,str(i),str(list3[i])] for i in range(0,len(list3))]\n",
    "ratingtask = agreement.AnnotationTask(data=taskdata)\n",
    "#print(\"kappa \" +str(ratingtask.kappa())) - gir ikke mening for tre annotators\n",
    "print(\"fleiss \" + str(ratingtask.multi_kappa()))\n",
    "print(\"alpha \" +str(ratingtask.alpha()))\n",
    "print(\"scotts \" + str(ratingtask.pi()))"
   ]
  },
  {
   "cell_type": "markdown",
   "id": "therapeutic-trigger",
   "metadata": {},
   "source": [
    "### Five annotators"
   ]
  },
  {
   "cell_type": "markdown",
   "id": "solid-rebound",
   "metadata": {},
   "source": [
    "All five classes (1-5)"
   ]
  },
  {
   "cell_type": "code",
   "execution_count": 11,
   "id": "treated-force",
   "metadata": {},
   "outputs": [],
   "source": [
    "list1 = df.sondre.values.tolist()\n",
    "list1 = list(map(int, list1))\n",
    "\n",
    "list2 = df.mathias.values.tolist()\n",
    "list2 = list(map(int, list2))\n",
    "\n",
    "list3 = df.vilde.values.tolist()\n",
    "list3 = list(map(int, list3))\n",
    "\n",
    "list4 = df.kristoffer.values.tolist()\n",
    "list4 = list(map(int, list3))\n",
    "\n",
    "list5 = df.category.values.tolist()\n",
    "list5 = list(map(int, list3))"
   ]
  },
  {
   "cell_type": "code",
   "execution_count": 12,
   "id": "cosmetic-decade",
   "metadata": {},
   "outputs": [
    {
     "name": "stdout",
     "output_type": "stream",
     "text": [
      "fleiss 0.5686082116695707\n",
      "alpha 0.568424851084592\n",
      "scotts 0.5679928439285205\n"
     ]
    }
   ],
   "source": [
    "taskdata=[[0,str(i),str(list1[i])] for i in range(0,len(list1))]+[[1,str(i),str(list2[i])] for i in range(0,len(list2))]+[[2,str(i),str(list3[i])] for i in range(0,len(list3))] +[[3,str(i),str(list1[i])] for i in range(0,len(list4))] +[[4,str(i),str(list1[i])] for i in range(0,len(list5))]\n",
    "ratingtask = agreement.AnnotationTask(data=taskdata)\n",
    "\n",
    "\n",
    "\n",
    "#print(\"kappa \" +str(ratingtask.kappa())) - gir ikke mening for tre annotators\n",
    "print(\"fleiss \" + str(ratingtask.multi_kappa()))\n",
    "print(\"alpha \" +str(ratingtask.alpha()))\n",
    "print(\"scotts \" + str(ratingtask.pi()))"
   ]
  },
  {
   "cell_type": "markdown",
   "id": "confident-weapon",
   "metadata": {},
   "source": [
    "Only offensive classes (2-5)"
   ]
  },
  {
   "cell_type": "code",
   "execution_count": 13,
   "id": "italian-probability",
   "metadata": {},
   "outputs": [],
   "source": [
    "list1 = df_off.sondre.values.tolist()\n",
    "list1 = list(map(int, list1))\n",
    "\n",
    "list2 = df_off.mathias.values.tolist()\n",
    "list2 = list(map(int, list2))\n",
    "\n",
    "list3 = df_off.vilde.values.tolist()\n",
    "list3 = list(map(int, list3))\n",
    "\n",
    "list4 = df_off.kristoffer.values.tolist()\n",
    "list4 = list(map(int, list3))\n",
    "\n",
    "list5 = df_off.category.values.tolist()\n",
    "list5 = list(map(int, list3))"
   ]
  },
  {
   "cell_type": "code",
   "execution_count": 14,
   "id": "alert-consultancy",
   "metadata": {},
   "outputs": [
    {
     "name": "stdout",
     "output_type": "stream",
     "text": [
      "fleiss 0.49243918474687726\n",
      "alpha 0.49088631149360884\n",
      "scotts 0.48986604358077046\n"
     ]
    }
   ],
   "source": [
    "taskdata=[[0,str(i),str(list1[i])] for i in range(0,len(list1))]+[[1,str(i),str(list2[i])] for i in range(0,len(list2))]+[[2,str(i),str(list3[i])] for i in range(0,len(list3))] +[[3,str(i),str(list1[i])] for i in range(0,len(list4))] +[[4,str(i),str(list1[i])] for i in range(0,len(list5))]\n",
    "ratingtask = agreement.AnnotationTask(data=taskdata)\n",
    "\n",
    "\n",
    "\n",
    "#print(\"kappa \" +str(ratingtask.kappa())) - gir ikke mening for tre annotators\n",
    "print(\"fleiss \" + str(ratingtask.multi_kappa()))\n",
    "print(\"alpha \" +str(ratingtask.alpha()))\n",
    "print(\"scotts \" + str(ratingtask.pi()))"
   ]
  },
  {
   "cell_type": "markdown",
   "id": "mexican-interim",
   "metadata": {},
   "source": [
    "## Percentage Agreement "
   ]
  },
  {
   "cell_type": "markdown",
   "id": "daily-bedroom",
   "metadata": {},
   "source": [
    "### All five classes 3 annotators"
   ]
  },
  {
   "cell_type": "code",
   "execution_count": 15,
   "id": "double-smell",
   "metadata": {},
   "outputs": [
    {
     "data": {
      "text/plain": [
       "73.5"
      ]
     },
     "execution_count": 15,
     "metadata": {},
     "output_type": "execute_result"
    }
   ],
   "source": [
    "similar = df.loc[(df.vilde == df.mathias) & (df.vilde == df.sondre) ]\n",
    "similar.shape[0]/df.shape[0]*100"
   ]
  },
  {
   "cell_type": "code",
   "execution_count": 16,
   "id": "unexpected-dialogue",
   "metadata": {},
   "outputs": [
    {
     "data": {
      "text/plain": [
       "1    142\n",
       "2      5\n",
       "Name: vilde, dtype: int64"
      ]
     },
     "execution_count": 16,
     "metadata": {},
     "output_type": "execute_result"
    }
   ],
   "source": [
    "similar['vilde'].value_counts(dropna=False)"
   ]
  },
  {
   "cell_type": "code",
   "execution_count": 17,
   "id": "utility-modern",
   "metadata": {},
   "outputs": [],
   "source": [
    "five  = df.loc[(df.vilde == 5) | (df.mathias == 5) | (df.sondre == 5)]\n",
    "four  = df.loc[(df.vilde == 4) | (df.mathias == 4) | (df.sondre == 4)]\n",
    "three = df.loc[(df.vilde == 3) | (df.mathias == 3) | (df.sondre == 3)]\n",
    "two   = df.loc[(df.vilde == 2) | (df.mathias == 2) | (df.sondre == 2)]\n",
    "one   = df.loc[(df.vilde == 1) | (df.mathias == 1) | (df.sondre == 1)]"
   ]
  },
  {
   "cell_type": "markdown",
   "id": "virgin-bride",
   "metadata": {},
   "source": [
    "Full agreement"
   ]
  },
  {
   "cell_type": "code",
   "execution_count": 18,
   "id": "close-upset",
   "metadata": {},
   "outputs": [
    {
     "data": {
      "text/plain": [
       "74.3455497382199"
      ]
     },
     "execution_count": 18,
     "metadata": {},
     "output_type": "execute_result"
    }
   ],
   "source": [
    "142/one.shape[0]*100"
   ]
  },
  {
   "cell_type": "code",
   "execution_count": 19,
   "id": "pleasant-travel",
   "metadata": {},
   "outputs": [
    {
     "data": {
      "text/plain": [
       "9.433962264150944"
      ]
     },
     "execution_count": 19,
     "metadata": {},
     "output_type": "execute_result"
    }
   ],
   "source": [
    "5/two.shape[0]*100"
   ]
  },
  {
   "cell_type": "code",
   "execution_count": 20,
   "id": "bronze-collection",
   "metadata": {},
   "outputs": [],
   "source": [
    "# 0"
   ]
  },
  {
   "cell_type": "code",
   "execution_count": 21,
   "id": "seasonal-arnold",
   "metadata": {},
   "outputs": [],
   "source": [
    "# 0"
   ]
  },
  {
   "cell_type": "code",
   "execution_count": 22,
   "id": "coastal-child",
   "metadata": {},
   "outputs": [],
   "source": [
    "# 0"
   ]
  },
  {
   "cell_type": "markdown",
   "id": "encouraging-packaging",
   "metadata": {},
   "source": [
    "Majority agreement"
   ]
  },
  {
   "cell_type": "code",
   "execution_count": 23,
   "id": "aging-activation",
   "metadata": {},
   "outputs": [],
   "source": [
    "two_similar = df.loc[(df.vilde == df.mathias) | (df.vilde == df.sondre) | (df.sondre == df.mathias)]"
   ]
  },
  {
   "cell_type": "code",
   "execution_count": 24,
   "id": "transparent-transparency",
   "metadata": {},
   "outputs": [
    {
     "data": {
      "text/plain": [
       "98.5"
      ]
     },
     "execution_count": 24,
     "metadata": {},
     "output_type": "execute_result"
    }
   ],
   "source": [
    "two_similar.shape[0]/df.shape[0]*100"
   ]
  },
  {
   "cell_type": "code",
   "execution_count": 25,
   "id": "rational-trainer",
   "metadata": {},
   "outputs": [],
   "source": [
    "two_similar.loc[(two_similar.vilde == two_similar.sondre) |\n",
    "                (two_similar.vilde == two_similar.mathias), 'similar_category'] = two_similar.vilde\n",
    "two_similar.loc[two_similar.sondre == two_similar.mathias, 'similar_category'] = two_similar.sondre"
   ]
  },
  {
   "cell_type": "code",
   "execution_count": 26,
   "id": "blank-shoulder",
   "metadata": {},
   "outputs": [
    {
     "data": {
      "text/plain": [
       "1.0    168\n",
       "2.0     27\n",
       "3.0      2\n",
       "Name: similar_category, dtype: int64"
      ]
     },
     "execution_count": 26,
     "metadata": {},
     "output_type": "execute_result"
    }
   ],
   "source": [
    "two_similar['similar_category'].value_counts(dropna=False)"
   ]
  },
  {
   "cell_type": "code",
   "execution_count": 27,
   "id": "dominican-corps",
   "metadata": {},
   "outputs": [
    {
     "data": {
      "text/plain": [
       "87.95811518324608"
      ]
     },
     "execution_count": 27,
     "metadata": {},
     "output_type": "execute_result"
    }
   ],
   "source": [
    "168/one.shape[0]*100"
   ]
  },
  {
   "cell_type": "code",
   "execution_count": 28,
   "id": "impossible-retro",
   "metadata": {},
   "outputs": [
    {
     "data": {
      "text/plain": [
       "50.943396226415096"
      ]
     },
     "execution_count": 28,
     "metadata": {},
     "output_type": "execute_result"
    }
   ],
   "source": [
    "27/two.shape[0]*100"
   ]
  },
  {
   "cell_type": "code",
   "execution_count": 29,
   "id": "listed-woman",
   "metadata": {},
   "outputs": [
    {
     "data": {
      "text/plain": [
       "25.0"
      ]
     },
     "execution_count": 29,
     "metadata": {},
     "output_type": "execute_result"
    }
   ],
   "source": [
    "2/three.shape[0]*100"
   ]
  },
  {
   "cell_type": "code",
   "execution_count": 30,
   "id": "greatest-mailing",
   "metadata": {},
   "outputs": [],
   "source": [
    "# 0"
   ]
  },
  {
   "cell_type": "code",
   "execution_count": 31,
   "id": "liable-kernel",
   "metadata": {},
   "outputs": [],
   "source": [
    "# 0"
   ]
  },
  {
   "cell_type": "markdown",
   "id": "least-section",
   "metadata": {},
   "source": [
    "### Offensive classes 3 annotators"
   ]
  },
  {
   "cell_type": "markdown",
   "id": "crucial-migration",
   "metadata": {},
   "source": [
    "Full agreement"
   ]
  },
  {
   "cell_type": "code",
   "execution_count": 32,
   "id": "equivalent-fleece",
   "metadata": {},
   "outputs": [],
   "source": [
    "one   = df_off.loc[(df_off.vilde == 1) | (df_off.mathias == 1) | (df_off.sondre == 1)]\n",
    "five  = df_off.loc[(df_off.vilde == 5) | (df_off.mathias == 5) | (df_off.sondre == 5)]\n",
    "four  = df_off.loc[(df_off.vilde == 4) | (df_off.mathias == 4) | (df_off.sondre == 4)]\n",
    "three = df_off.loc[(df_off.vilde == 3) | (df_off.mathias == 3) | (df_off.sondre == 3)]\n",
    "two   = df_off.loc[(df_off.vilde == 2) | (df_off.mathias == 2) | (df_off.sondre == 2)]"
   ]
  },
  {
   "cell_type": "code",
   "execution_count": 33,
   "id": "professional-flood",
   "metadata": {},
   "outputs": [
    {
     "data": {
      "text/plain": [
       "12.5"
      ]
     },
     "execution_count": 33,
     "metadata": {},
     "output_type": "execute_result"
    }
   ],
   "source": [
    "similar = df_off.loc[(df_off.vilde == df_off.mathias) & (df_off.vilde == df_off.sondre) ]\n",
    "similar.shape[0]/df.shape[0]*100"
   ]
  },
  {
   "cell_type": "code",
   "execution_count": 34,
   "id": "bizarre-spectrum",
   "metadata": {},
   "outputs": [
    {
     "data": {
      "text/plain": [
       "4    11\n",
       "2     6\n",
       "3     5\n",
       "5     3\n",
       "Name: vilde, dtype: int64"
      ]
     },
     "execution_count": 34,
     "metadata": {},
     "output_type": "execute_result"
    }
   ],
   "source": [
    "similar['vilde'].value_counts(dropna=False)"
   ]
  },
  {
   "cell_type": "code",
   "execution_count": 35,
   "id": "convinced-accent",
   "metadata": {},
   "outputs": [
    {
     "data": {
      "text/plain": [
       "12.244897959183673"
      ]
     },
     "execution_count": 35,
     "metadata": {},
     "output_type": "execute_result"
    }
   ],
   "source": [
    "6/two.shape[0]*100"
   ]
  },
  {
   "cell_type": "code",
   "execution_count": 36,
   "id": "unlikely-paradise",
   "metadata": {},
   "outputs": [
    {
     "data": {
      "text/plain": [
       "8.47457627118644"
      ]
     },
     "execution_count": 36,
     "metadata": {},
     "output_type": "execute_result"
    }
   ],
   "source": [
    "5/three.shape[0]*100"
   ]
  },
  {
   "cell_type": "code",
   "execution_count": 37,
   "id": "indirect-absorption",
   "metadata": {},
   "outputs": [
    {
     "data": {
      "text/plain": [
       "21.568627450980394"
      ]
     },
     "execution_count": 37,
     "metadata": {},
     "output_type": "execute_result"
    }
   ],
   "source": [
    "11/four.shape[0]*100"
   ]
  },
  {
   "cell_type": "code",
   "execution_count": 38,
   "id": "false-diagram",
   "metadata": {},
   "outputs": [
    {
     "data": {
      "text/plain": [
       "13.043478260869565"
      ]
     },
     "execution_count": 38,
     "metadata": {},
     "output_type": "execute_result"
    }
   ],
   "source": [
    "3/five.shape[0]*100"
   ]
  },
  {
   "cell_type": "code",
   "execution_count": 39,
   "id": "integrated-wound",
   "metadata": {},
   "outputs": [],
   "source": [
    "# 0 "
   ]
  },
  {
   "cell_type": "markdown",
   "id": "cardiovascular-intellectual",
   "metadata": {},
   "source": [
    "Majority agreement"
   ]
  },
  {
   "cell_type": "code",
   "execution_count": 40,
   "id": "incorporate-weather",
   "metadata": {},
   "outputs": [],
   "source": [
    "two_similar = df_off.loc[(df_off.vilde == df_off.mathias) | (df_off.vilde == df_off.sondre) | (df_off.sondre == df_off.mathias)]"
   ]
  },
  {
   "cell_type": "code",
   "execution_count": 41,
   "id": "textile-qatar",
   "metadata": {},
   "outputs": [],
   "source": [
    "two_similar.loc[(two_similar.vilde == two_similar.sondre) |\n",
    "                (two_similar.vilde == two_similar.mathias), 'similar_category'] = two_similar.vilde\n",
    "two_similar.loc[two_similar.sondre == two_similar.mathias, 'similar_category'] = two_similar.sondre"
   ]
  },
  {
   "cell_type": "code",
   "execution_count": 42,
   "id": "offshore-liability",
   "metadata": {},
   "outputs": [
    {
     "data": {
      "text/plain": [
       "84.0"
      ]
     },
     "execution_count": 42,
     "metadata": {},
     "output_type": "execute_result"
    }
   ],
   "source": [
    "two_similar.shape[0]/df_off.shape[0]*100"
   ]
  },
  {
   "cell_type": "code",
   "execution_count": 43,
   "id": "excellent-shore",
   "metadata": {},
   "outputs": [
    {
     "data": {
      "text/plain": [
       "3.0    25\n",
       "4.0    24\n",
       "2.0    21\n",
       "5.0    12\n",
       "1.0     2\n",
       "Name: similar_category, dtype: int64"
      ]
     },
     "execution_count": 43,
     "metadata": {},
     "output_type": "execute_result"
    }
   ],
   "source": [
    "two_similar['similar_category'].value_counts(dropna=False)"
   ]
  },
  {
   "cell_type": "code",
   "execution_count": 44,
   "id": "serious-nudist",
   "metadata": {},
   "outputs": [
    {
     "data": {
      "text/plain": [
       "22.22222222222222"
      ]
     },
     "execution_count": 44,
     "metadata": {},
     "output_type": "execute_result"
    }
   ],
   "source": [
    "2/one.shape[0]*100"
   ]
  },
  {
   "cell_type": "code",
   "execution_count": 45,
   "id": "variable-cardiff",
   "metadata": {},
   "outputs": [
    {
     "data": {
      "text/plain": [
       "42.857142857142854"
      ]
     },
     "execution_count": 45,
     "metadata": {},
     "output_type": "execute_result"
    }
   ],
   "source": [
    "21/two.shape[0]*100"
   ]
  },
  {
   "cell_type": "code",
   "execution_count": 46,
   "id": "silver-commonwealth",
   "metadata": {},
   "outputs": [
    {
     "data": {
      "text/plain": [
       "42.3728813559322"
      ]
     },
     "execution_count": 46,
     "metadata": {},
     "output_type": "execute_result"
    }
   ],
   "source": [
    "25/three.shape[0]*100"
   ]
  },
  {
   "cell_type": "code",
   "execution_count": 47,
   "id": "atmospheric-divide",
   "metadata": {},
   "outputs": [
    {
     "data": {
      "text/plain": [
       "47.05882352941176"
      ]
     },
     "execution_count": 47,
     "metadata": {},
     "output_type": "execute_result"
    }
   ],
   "source": [
    "24/four.shape[0]*100"
   ]
  },
  {
   "cell_type": "code",
   "execution_count": 48,
   "id": "ordinary-beads",
   "metadata": {},
   "outputs": [
    {
     "data": {
      "text/plain": [
       "52.17391304347826"
      ]
     },
     "execution_count": 48,
     "metadata": {},
     "output_type": "execute_result"
    }
   ],
   "source": [
    "12/five.shape[0]*100"
   ]
  },
  {
   "cell_type": "markdown",
   "id": "binary-stack",
   "metadata": {},
   "source": [
    "### All five classes 5 annotators"
   ]
  },
  {
   "cell_type": "code",
   "execution_count": 49,
   "id": "norman-warren",
   "metadata": {},
   "outputs": [],
   "source": [
    "five  = df.loc[(df.vilde == 5) | (df.mathias == 5) | (df.sondre == 5) |(df.kristoffer == 5)| (df.category == 5)]\n",
    "four  = df.loc[(df.vilde == 4) | (df.mathias == 4) | (df.sondre == 4) |(df.kristoffer == 4)| (df.category == 4)]\n",
    "three = df.loc[(df.vilde == 3) | (df.mathias == 3) | (df.sondre == 3) |(df.kristoffer == 3)| (df.category == 3)]\n",
    "two   = df.loc[(df.vilde == 2) | (df.mathias == 2) | (df.sondre == 2) |(df.kristoffer == 2)| (df.category == 2)]\n",
    "one   = df.loc[(df.vilde == 1) | (df.mathias == 1) | (df.sondre == 1) |(df.kristoffer == 1)| (df.category == 1)]"
   ]
  },
  {
   "cell_type": "markdown",
   "id": "failing-papua",
   "metadata": {},
   "source": [
    "Full agreement"
   ]
  },
  {
   "cell_type": "code",
   "execution_count": 50,
   "id": "chemical-invite",
   "metadata": {},
   "outputs": [
    {
     "data": {
      "text/plain": [
       "63.5"
      ]
     },
     "execution_count": 50,
     "metadata": {},
     "output_type": "execute_result"
    }
   ],
   "source": [
    "similar = df.loc[(df.vilde == df.mathias) & (df.vilde == df.sondre) & (df.vilde == df.kristoffer) & (df.vilde == df.category) ]\n",
    "similar.shape[0]/df.shape[0]*100"
   ]
  },
  {
   "cell_type": "code",
   "execution_count": 51,
   "id": "confused-means",
   "metadata": {},
   "outputs": [
    {
     "data": {
      "text/plain": [
       "1    127\n",
       "Name: category, dtype: int64"
      ]
     },
     "execution_count": 51,
     "metadata": {},
     "output_type": "execute_result"
    }
   ],
   "source": [
    "similar['category'].value_counts(dropna=False)"
   ]
  },
  {
   "cell_type": "code",
   "execution_count": 52,
   "id": "according-disclosure",
   "metadata": {},
   "outputs": [
    {
     "data": {
      "text/plain": [
       "64.79591836734694"
      ]
     },
     "execution_count": 52,
     "metadata": {},
     "output_type": "execute_result"
    }
   ],
   "source": [
    "127/one.shape[0]*100"
   ]
  },
  {
   "cell_type": "markdown",
   "id": "heavy-puppy",
   "metadata": {},
   "source": [
    "Majority agreement"
   ]
  },
  {
   "cell_type": "code",
   "execution_count": 53,
   "id": "cordless-savings",
   "metadata": {},
   "outputs": [],
   "source": [
    "two_similar.loc[(two_similar.vilde == two_similar.sondre) |\n",
    "                (two_similar.vilde == two_similar.mathias), 'similar_category'] = two_similar.vilde\n",
    "two_similar.loc[two_similar.sondre == two_similar.mathias, 'similar_category'] = two_similar.sondre"
   ]
  },
  {
   "cell_type": "code",
   "execution_count": null,
   "id": "revolutionary-intensity",
   "metadata": {},
   "outputs": [],
   "source": []
  },
  {
   "cell_type": "markdown",
   "id": "manufactured-mercy",
   "metadata": {},
   "source": [
    "### Offensive classes 5 annotators"
   ]
  },
  {
   "cell_type": "markdown",
   "id": "flush-columbia",
   "metadata": {},
   "source": [
    "Full agreement"
   ]
  },
  {
   "cell_type": "code",
   "execution_count": null,
   "id": "auburn-margin",
   "metadata": {},
   "outputs": [],
   "source": []
  },
  {
   "cell_type": "markdown",
   "id": "short-istanbul",
   "metadata": {},
   "source": [
    "Majority agreement"
   ]
  },
  {
   "cell_type": "code",
   "execution_count": null,
   "id": "impaired-absence",
   "metadata": {},
   "outputs": [],
   "source": []
  },
  {
   "cell_type": "markdown",
   "id": "identical-welding",
   "metadata": {},
   "source": [
    "# Analysis"
   ]
  },
  {
   "cell_type": "code",
   "execution_count": 54,
   "id": "sized-packet",
   "metadata": {},
   "outputs": [],
   "source": [
    "df[\"avg\"] = (df.vilde + df.sondre + df.mathias)/3\n",
    "df_off[\"avg\"] = (df.vilde + df.sondre + df.mathias)/3"
   ]
  },
  {
   "cell_type": "code",
   "execution_count": 55,
   "id": "ranking-accordance",
   "metadata": {},
   "outputs": [
    {
     "data": {
      "text/plain": [
       "0.16"
      ]
     },
     "execution_count": 55,
     "metadata": {},
     "output_type": "execute_result"
    }
   ],
   "source": [
    "len(df[df.avg < df.category])/len(df)"
   ]
  },
  {
   "cell_type": "code",
   "execution_count": 56,
   "id": "liked-development",
   "metadata": {},
   "outputs": [
    {
     "data": {
      "text/plain": [
       "0.155"
      ]
     },
     "execution_count": 56,
     "metadata": {},
     "output_type": "execute_result"
    }
   ],
   "source": [
    "len(df[df.avg > df.category])/len(df)"
   ]
  },
  {
   "cell_type": "code",
   "execution_count": 57,
   "id": "attended-bibliography",
   "metadata": {},
   "outputs": [
    {
     "data": {
      "text/plain": [
       "1.0"
      ]
     },
     "execution_count": 57,
     "metadata": {},
     "output_type": "execute_result"
    }
   ],
   "source": [
    "len(df_off[df_off.avg < df_off.category])/len(df_off)"
   ]
  },
  {
   "cell_type": "code",
   "execution_count": 58,
   "id": "featured-royal",
   "metadata": {},
   "outputs": [
    {
     "data": {
      "text/plain": [
       "0.0"
      ]
     },
     "execution_count": 58,
     "metadata": {},
     "output_type": "execute_result"
    }
   ],
   "source": [
    "len(df_off[df_off.avg > df_off.category])/len(df_off)"
   ]
  },
  {
   "cell_type": "code",
   "execution_count": 59,
   "id": "decimal-parallel",
   "metadata": {},
   "outputs": [],
   "source": [
    "#df_off[df_off.avg < df_off.category]"
   ]
  },
  {
   "cell_type": "code",
   "execution_count": 60,
   "id": "economic-colonial",
   "metadata": {},
   "outputs": [
    {
     "data": {
      "text/html": [
       "<div>\n",
       "<style scoped>\n",
       "    .dataframe tbody tr th:only-of-type {\n",
       "        vertical-align: middle;\n",
       "    }\n",
       "\n",
       "    .dataframe tbody tr th {\n",
       "        vertical-align: top;\n",
       "    }\n",
       "\n",
       "    .dataframe thead th {\n",
       "        text-align: right;\n",
       "    }\n",
       "</style>\n",
       "<table border=\"1\" class=\"dataframe\">\n",
       "  <thead>\n",
       "    <tr style=\"text-align: right;\">\n",
       "      <th></th>\n",
       "      <th>id</th>\n",
       "      <th>text</th>\n",
       "      <th>source</th>\n",
       "      <th>category</th>\n",
       "      <th>sondre</th>\n",
       "      <th>mathias</th>\n",
       "      <th>vilde</th>\n",
       "      <th>kristoffer</th>\n",
       "      <th>avg</th>\n",
       "    </tr>\n",
       "  </thead>\n",
       "  <tbody>\n",
       "    <tr>\n",
       "      <th>0</th>\n",
       "      <td>10667</td>\n",
       "      <td>De er helt ute og kjøre dette partiet Når ett ...</td>\n",
       "      <td>fb</td>\n",
       "      <td>2</td>\n",
       "      <td>1</td>\n",
       "      <td>3</td>\n",
       "      <td>2</td>\n",
       "      <td>2</td>\n",
       "      <td>1.000000</td>\n",
       "    </tr>\n",
       "    <tr>\n",
       "      <th>1</th>\n",
       "      <td>10817</td>\n",
       "      <td>Knall ein biff i haue pån terje</td>\n",
       "      <td>fb</td>\n",
       "      <td>5</td>\n",
       "      <td>3</td>\n",
       "      <td>3</td>\n",
       "      <td>5</td>\n",
       "      <td>5</td>\n",
       "      <td>1.333333</td>\n",
       "    </tr>\n",
       "    <tr>\n",
       "      <th>2</th>\n",
       "      <td>4679351020</td>\n",
       "      <td>EnIg. Det finnes ikke moderate muslimer.</td>\n",
       "      <td>rs</td>\n",
       "      <td>4</td>\n",
       "      <td>4</td>\n",
       "      <td>4</td>\n",
       "      <td>4</td>\n",
       "      <td>3</td>\n",
       "      <td>1.000000</td>\n",
       "    </tr>\n",
       "    <tr>\n",
       "      <th>3</th>\n",
       "      <td>4660257108</td>\n",
       "      <td>hjelper ikke på vold og kriminell statistikken...</td>\n",
       "      <td>rs</td>\n",
       "      <td>5</td>\n",
       "      <td>4</td>\n",
       "      <td>5</td>\n",
       "      <td>2</td>\n",
       "      <td>2</td>\n",
       "      <td>2.000000</td>\n",
       "    </tr>\n",
       "    <tr>\n",
       "      <th>4</th>\n",
       "      <td>1228671547772108801</td>\n",
       "      <td>Navn Navn Så du mener islam bidrar positivt i ...</td>\n",
       "      <td>tw</td>\n",
       "      <td>4</td>\n",
       "      <td>4</td>\n",
       "      <td>4</td>\n",
       "      <td>4</td>\n",
       "      <td>4</td>\n",
       "      <td>1.000000</td>\n",
       "    </tr>\n",
       "    <tr>\n",
       "      <th>...</th>\n",
       "      <td>...</td>\n",
       "      <td>...</td>\n",
       "      <td>...</td>\n",
       "      <td>...</td>\n",
       "      <td>...</td>\n",
       "      <td>...</td>\n",
       "      <td>...</td>\n",
       "      <td>...</td>\n",
       "      <td>...</td>\n",
       "    </tr>\n",
       "    <tr>\n",
       "      <th>95</th>\n",
       "      <td>4576</td>\n",
       "      <td>Navn Navn Navn - ja, og hvis man er redd for å...</td>\n",
       "      <td>fb</td>\n",
       "      <td>2</td>\n",
       "      <td>2</td>\n",
       "      <td>4</td>\n",
       "      <td>2</td>\n",
       "      <td>2</td>\n",
       "      <td>1.000000</td>\n",
       "    </tr>\n",
       "    <tr>\n",
       "      <th>96</th>\n",
       "      <td>4662622571</td>\n",
       "      <td>Re:1% til USA. Pass på at du ikke har falt for...</td>\n",
       "      <td>rs</td>\n",
       "      <td>4</td>\n",
       "      <td>3</td>\n",
       "      <td>4</td>\n",
       "      <td>2</td>\n",
       "      <td>2</td>\n",
       "      <td>1.000000</td>\n",
       "    </tr>\n",
       "    <tr>\n",
       "      <th>97</th>\n",
       "      <td>2867</td>\n",
       "      <td>Hijab eller andre religiøse symboler/klesplagg...</td>\n",
       "      <td>fb</td>\n",
       "      <td>4</td>\n",
       "      <td>2</td>\n",
       "      <td>4</td>\n",
       "      <td>4</td>\n",
       "      <td>3</td>\n",
       "      <td>1.000000</td>\n",
       "    </tr>\n",
       "    <tr>\n",
       "      <th>98</th>\n",
       "      <td>1214694314628042755</td>\n",
       "      <td>Kongefamilien blir dummere og dummere. Det nye...</td>\n",
       "      <td>tw</td>\n",
       "      <td>3</td>\n",
       "      <td>3</td>\n",
       "      <td>3</td>\n",
       "      <td>4</td>\n",
       "      <td>4</td>\n",
       "      <td>1.000000</td>\n",
       "    </tr>\n",
       "    <tr>\n",
       "      <th>99</th>\n",
       "      <td>4678102069</td>\n",
       "      <td>Hun bær la seg omskjære i solidaritet med alle...</td>\n",
       "      <td>rs</td>\n",
       "      <td>3</td>\n",
       "      <td>3</td>\n",
       "      <td>3</td>\n",
       "      <td>3</td>\n",
       "      <td>3</td>\n",
       "      <td>1.000000</td>\n",
       "    </tr>\n",
       "  </tbody>\n",
       "</table>\n",
       "<p>100 rows × 9 columns</p>\n",
       "</div>"
      ],
      "text/plain": [
       "                     id                                               text  \\\n",
       "0                 10667  De er helt ute og kjøre dette partiet Når ett ...   \n",
       "1                 10817                    Knall ein biff i haue pån terje   \n",
       "2            4679351020           EnIg. Det finnes ikke moderate muslimer.   \n",
       "3            4660257108  hjelper ikke på vold og kriminell statistikken...   \n",
       "4   1228671547772108801  Navn Navn Så du mener islam bidrar positivt i ...   \n",
       "..                  ...                                                ...   \n",
       "95                 4576  Navn Navn Navn - ja, og hvis man er redd for å...   \n",
       "96           4662622571  Re:1% til USA. Pass på at du ikke har falt for...   \n",
       "97                 2867  Hijab eller andre religiøse symboler/klesplagg...   \n",
       "98  1214694314628042755  Kongefamilien blir dummere og dummere. Det nye...   \n",
       "99           4678102069  Hun bær la seg omskjære i solidaritet med alle...   \n",
       "\n",
       "   source  category  sondre  mathias  vilde  kristoffer       avg  \n",
       "0      fb         2       1        3      2           2  1.000000  \n",
       "1      fb         5       3        3      5           5  1.333333  \n",
       "2      rs         4       4        4      4           3  1.000000  \n",
       "3      rs         5       4        5      2           2  2.000000  \n",
       "4      tw         4       4        4      4           4  1.000000  \n",
       "..    ...       ...     ...      ...    ...         ...       ...  \n",
       "95     fb         2       2        4      2           2  1.000000  \n",
       "96     rs         4       3        4      2           2  1.000000  \n",
       "97     fb         4       2        4      4           3  1.000000  \n",
       "98     tw         3       3        3      4           4  1.000000  \n",
       "99     rs         3       3        3      3           3  1.000000  \n",
       "\n",
       "[100 rows x 9 columns]"
      ]
     },
     "execution_count": 60,
     "metadata": {},
     "output_type": "execute_result"
    }
   ],
   "source": [
    "df_off"
   ]
  },
  {
   "cell_type": "markdown",
   "id": "standard-harbor",
   "metadata": {},
   "source": [
    "## Classwise Observations"
   ]
  },
  {
   "cell_type": "code",
   "execution_count": 61,
   "id": "grand-choir",
   "metadata": {},
   "outputs": [],
   "source": [
    "df_off[\"avg\"] = (df_off.vilde + df_off.mathias + df_off. sondre)/3"
   ]
  },
  {
   "cell_type": "code",
   "execution_count": 62,
   "id": "second-hindu",
   "metadata": {},
   "outputs": [],
   "source": [
    "prov = df_off.loc[df_off.category == 2]\n",
    "off = df_off.loc[df_off.category == 3]\n",
    "mod = df_off.loc[df_off.category == 4]\n",
    "hat = df_off.loc[df_off.category == 5]"
   ]
  },
  {
   "cell_type": "code",
   "execution_count": 63,
   "id": "cardiovascular-lover",
   "metadata": {},
   "outputs": [
    {
     "name": "stdout",
     "output_type": "stream",
     "text": [
      "Averaged prov labeled as more offensive: 0.72\n",
      "Averaged prov labeled as less offensive: 0.08\n"
     ]
    }
   ],
   "source": [
    "print(\"Averaged prov labeled as more offensive:\",len(prov.loc[prov.avg > 2])/len(prov))\n",
    "print(\"Averaged prov labeled as less offensive:\", len(prov.loc[prov.avg < 2])/len(prov))"
   ]
  },
  {
   "cell_type": "code",
   "execution_count": 64,
   "id": "arctic-brush",
   "metadata": {},
   "outputs": [
    {
     "name": "stdout",
     "output_type": "stream",
     "text": [
      "Averaged off labeled as more offensive: 0.28\n",
      "Averaged off labeled as less offensive: 0.52\n"
     ]
    }
   ],
   "source": [
    "print(\"Averaged off labeled as more offensive:\",len(off.loc[off.avg > 3])/len(off))\n",
    "print(\"Averaged off labeled as less offensive:\", len(off.loc[off.avg < 3])/len(off))"
   ]
  },
  {
   "cell_type": "code",
   "execution_count": 65,
   "id": "viral-firewall",
   "metadata": {},
   "outputs": [
    {
     "name": "stdout",
     "output_type": "stream",
     "text": [
      "Averaged moderately hateful labeled as more offensive: 0.0\n",
      "Averaged moderately hateful labeled as less offensive: 0.68\n"
     ]
    }
   ],
   "source": [
    "print(\"Averaged moderately hateful labeled as more offensive:\",len(mod.loc[mod.avg > 4])/len(mod))\n",
    "print(\"Averaged moderately hateful labeled as less offensive:\", len(mod.loc[mod.avg < 4])/len(mod))"
   ]
  },
  {
   "cell_type": "code",
   "execution_count": 66,
   "id": "alleged-beatles",
   "metadata": {},
   "outputs": [
    {
     "name": "stdout",
     "output_type": "stream",
     "text": [
      "Averaged hateful labeled as more offensive: 0.0\n",
      "Averaged hateful labeled as less offensive: 0.88\n"
     ]
    }
   ],
   "source": [
    "print(\"Averaged hateful labeled as more offensive:\",len(hat.loc[hat.avg > 5])/len(hat))\n",
    "print(\"Averaged hateful labeled as less offensive:\", len(hat.loc[hat.avg < 5])/len(hat))"
   ]
  },
  {
   "cell_type": "code",
   "execution_count": null,
   "id": "front-logan",
   "metadata": {},
   "outputs": [],
   "source": []
  },
  {
   "cell_type": "code",
   "execution_count": null,
   "id": "finished-german",
   "metadata": {},
   "outputs": [],
   "source": []
  },
  {
   "cell_type": "markdown",
   "id": "stone-needle",
   "metadata": {},
   "source": [
    "## Hateful"
   ]
  },
  {
   "cell_type": "code",
   "execution_count": 67,
   "id": "interim-maryland",
   "metadata": {},
   "outputs": [
    {
     "data": {
      "text/html": [
       "<div>\n",
       "<style scoped>\n",
       "    .dataframe tbody tr th:only-of-type {\n",
       "        vertical-align: middle;\n",
       "    }\n",
       "\n",
       "    .dataframe tbody tr th {\n",
       "        vertical-align: top;\n",
       "    }\n",
       "\n",
       "    .dataframe thead th {\n",
       "        text-align: right;\n",
       "    }\n",
       "</style>\n",
       "<table border=\"1\" class=\"dataframe\">\n",
       "  <thead>\n",
       "    <tr style=\"text-align: right;\">\n",
       "      <th></th>\n",
       "      <th>id</th>\n",
       "      <th>text</th>\n",
       "      <th>source</th>\n",
       "      <th>category</th>\n",
       "      <th>sondre</th>\n",
       "      <th>mathias</th>\n",
       "      <th>vilde</th>\n",
       "      <th>kristoffer</th>\n",
       "      <th>avg</th>\n",
       "    </tr>\n",
       "  </thead>\n",
       "  <tbody>\n",
       "    <tr>\n",
       "      <th>1</th>\n",
       "      <td>10817</td>\n",
       "      <td>Knall ein biff i haue pån terje</td>\n",
       "      <td>fb</td>\n",
       "      <td>5</td>\n",
       "      <td>3</td>\n",
       "      <td>3</td>\n",
       "      <td>5</td>\n",
       "      <td>5</td>\n",
       "      <td>3.666667</td>\n",
       "    </tr>\n",
       "    <tr>\n",
       "      <th>3</th>\n",
       "      <td>4660257108</td>\n",
       "      <td>hjelper ikke på vold og kriminell statistikken...</td>\n",
       "      <td>rs</td>\n",
       "      <td>5</td>\n",
       "      <td>4</td>\n",
       "      <td>5</td>\n",
       "      <td>2</td>\n",
       "      <td>2</td>\n",
       "      <td>3.666667</td>\n",
       "    </tr>\n",
       "    <tr>\n",
       "      <th>11</th>\n",
       "      <td>1216628051745951745</td>\n",
       "      <td>iranerne vil ikke ha en dritt å gjøre med isla...</td>\n",
       "      <td>tw</td>\n",
       "      <td>5</td>\n",
       "      <td>5</td>\n",
       "      <td>5</td>\n",
       "      <td>5</td>\n",
       "      <td>4</td>\n",
       "      <td>5.000000</td>\n",
       "    </tr>\n",
       "    <tr>\n",
       "      <th>17</th>\n",
       "      <td>4678430862</td>\n",
       "      <td>Ellers kan de dra tilbake til \"the shit holes\"...</td>\n",
       "      <td>rs</td>\n",
       "      <td>5</td>\n",
       "      <td>4</td>\n",
       "      <td>5</td>\n",
       "      <td>3</td>\n",
       "      <td>3</td>\n",
       "      <td>4.000000</td>\n",
       "    </tr>\n",
       "    <tr>\n",
       "      <th>18</th>\n",
       "      <td>4660091180</td>\n",
       "      <td>Skal si vi har kommet langt når folk må holde ...</td>\n",
       "      <td>rs</td>\n",
       "      <td>5</td>\n",
       "      <td>4</td>\n",
       "      <td>4</td>\n",
       "      <td>2</td>\n",
       "      <td>2</td>\n",
       "      <td>3.333333</td>\n",
       "    </tr>\n",
       "    <tr>\n",
       "      <th>22</th>\n",
       "      <td>4662831768</td>\n",
       "      <td>Ut...Med hele fam.Det er det eneste de forstår...</td>\n",
       "      <td>rs</td>\n",
       "      <td>5</td>\n",
       "      <td>5</td>\n",
       "      <td>5</td>\n",
       "      <td>2</td>\n",
       "      <td>3</td>\n",
       "      <td>4.000000</td>\n",
       "    </tr>\n",
       "    <tr>\n",
       "      <th>23</th>\n",
       "      <td>1227702763473252352</td>\n",
       "      <td>Hele kirka påstår nå at de har snudd,akkurat s...</td>\n",
       "      <td>tw</td>\n",
       "      <td>5</td>\n",
       "      <td>5</td>\n",
       "      <td>4</td>\n",
       "      <td>5</td>\n",
       "      <td>5</td>\n",
       "      <td>4.666667</td>\n",
       "    </tr>\n",
       "    <tr>\n",
       "      <th>24</th>\n",
       "      <td>11184</td>\n",
       "      <td>Er ikke det terrorsvinet blitt utlevert enda? 👀😡</td>\n",
       "      <td>fb</td>\n",
       "      <td>5</td>\n",
       "      <td>4</td>\n",
       "      <td>5</td>\n",
       "      <td>3</td>\n",
       "      <td>3</td>\n",
       "      <td>4.000000</td>\n",
       "    </tr>\n",
       "    <tr>\n",
       "      <th>28</th>\n",
       "      <td>4659434469</td>\n",
       "      <td>Send ungdommene med enveisbilett til en korans...</td>\n",
       "      <td>rs</td>\n",
       "      <td>5</td>\n",
       "      <td>3</td>\n",
       "      <td>5</td>\n",
       "      <td>5</td>\n",
       "      <td>5</td>\n",
       "      <td>4.333333</td>\n",
       "    </tr>\n",
       "    <tr>\n",
       "      <th>42</th>\n",
       "      <td>1231594352151089153</td>\n",
       "      <td>Navn Navn Navn Navn Navn Spekulasjon i hva som...</td>\n",
       "      <td>tw</td>\n",
       "      <td>5</td>\n",
       "      <td>4</td>\n",
       "      <td>4</td>\n",
       "      <td>4</td>\n",
       "      <td>4</td>\n",
       "      <td>4.000000</td>\n",
       "    </tr>\n",
       "    <tr>\n",
       "      <th>45</th>\n",
       "      <td>4661207608</td>\n",
       "      <td>Woo hooo!!Vi kan bruke statens pensjonsfond fo...</td>\n",
       "      <td>rs</td>\n",
       "      <td>5</td>\n",
       "      <td>5</td>\n",
       "      <td>5</td>\n",
       "      <td>5</td>\n",
       "      <td>5</td>\n",
       "      <td>5.000000</td>\n",
       "    </tr>\n",
       "    <tr>\n",
       "      <th>46</th>\n",
       "      <td>4660545676</td>\n",
       "      <td>Vi ser ikke bare hva som skjer her hjemme, men...</td>\n",
       "      <td>rs</td>\n",
       "      <td>5</td>\n",
       "      <td>5</td>\n",
       "      <td>4</td>\n",
       "      <td>3</td>\n",
       "      <td>3</td>\n",
       "      <td>4.000000</td>\n",
       "    </tr>\n",
       "    <tr>\n",
       "      <th>53</th>\n",
       "      <td>1222669174322929670</td>\n",
       "      <td>Navn Til hhhh få de sendt tilbake indoktrinert...</td>\n",
       "      <td>tw</td>\n",
       "      <td>5</td>\n",
       "      <td>5</td>\n",
       "      <td>4</td>\n",
       "      <td>4</td>\n",
       "      <td>5</td>\n",
       "      <td>4.333333</td>\n",
       "    </tr>\n",
       "    <tr>\n",
       "      <th>54</th>\n",
       "      <td>4679835464</td>\n",
       "      <td>Hvem er personen i blått..mann eller kvinne..?...</td>\n",
       "      <td>rs</td>\n",
       "      <td>5</td>\n",
       "      <td>5</td>\n",
       "      <td>4</td>\n",
       "      <td>4</td>\n",
       "      <td>5</td>\n",
       "      <td>4.333333</td>\n",
       "    </tr>\n",
       "    <tr>\n",
       "      <th>55</th>\n",
       "      <td>4683597752</td>\n",
       "      <td>Jernteppet og den påfølgende lave levestandare...</td>\n",
       "      <td>rs</td>\n",
       "      <td>5</td>\n",
       "      <td>4</td>\n",
       "      <td>4</td>\n",
       "      <td>4</td>\n",
       "      <td>4</td>\n",
       "      <td>4.000000</td>\n",
       "    </tr>\n",
       "    <tr>\n",
       "      <th>58</th>\n",
       "      <td>1217949465417592832</td>\n",
       "      <td>Navn Navn Når du trenes opp i bomber, kutter. ...</td>\n",
       "      <td>tw</td>\n",
       "      <td>5</td>\n",
       "      <td>5</td>\n",
       "      <td>5</td>\n",
       "      <td>5</td>\n",
       "      <td>5</td>\n",
       "      <td>5.000000</td>\n",
       "    </tr>\n",
       "    <tr>\n",
       "      <th>62</th>\n",
       "      <td>4680002809</td>\n",
       "      <td>Ja dette syns jeg må gjøre noe med. Erna må se...</td>\n",
       "      <td>rs</td>\n",
       "      <td>5</td>\n",
       "      <td>5</td>\n",
       "      <td>4</td>\n",
       "      <td>5</td>\n",
       "      <td>5</td>\n",
       "      <td>4.666667</td>\n",
       "    </tr>\n",
       "    <tr>\n",
       "      <th>64</th>\n",
       "      <td>3099</td>\n",
       "      <td>Navn Navn dette avskyelige damemenneske reiste...</td>\n",
       "      <td>fb</td>\n",
       "      <td>5</td>\n",
       "      <td>3</td>\n",
       "      <td>3</td>\n",
       "      <td>4</td>\n",
       "      <td>4</td>\n",
       "      <td>3.333333</td>\n",
       "    </tr>\n",
       "    <tr>\n",
       "      <th>66</th>\n",
       "      <td>4685066950</td>\n",
       "      <td>Norge burde sende hjem alle tyrkere det er ikk...</td>\n",
       "      <td>rs</td>\n",
       "      <td>5</td>\n",
       "      <td>5</td>\n",
       "      <td>5</td>\n",
       "      <td>4</td>\n",
       "      <td>5</td>\n",
       "      <td>4.666667</td>\n",
       "    </tr>\n",
       "    <tr>\n",
       "      <th>74</th>\n",
       "      <td>4684429089</td>\n",
       "      <td>Veks barnet opp til å verta ein heterofil musl...</td>\n",
       "      <td>rs</td>\n",
       "      <td>5</td>\n",
       "      <td>5</td>\n",
       "      <td>5</td>\n",
       "      <td>4</td>\n",
       "      <td>4</td>\n",
       "      <td>4.666667</td>\n",
       "    </tr>\n",
       "    <tr>\n",
       "      <th>77</th>\n",
       "      <td>4685118364</td>\n",
       "      <td>Enig. Ta en dna test og send dem på huet og ræ...</td>\n",
       "      <td>rs</td>\n",
       "      <td>5</td>\n",
       "      <td>5</td>\n",
       "      <td>5</td>\n",
       "      <td>3</td>\n",
       "      <td>3</td>\n",
       "      <td>4.333333</td>\n",
       "    </tr>\n",
       "    <tr>\n",
       "      <th>78</th>\n",
       "      <td>4680657760</td>\n",
       "      <td>Send de tilbake sporenstreks. Men svar på en t...</td>\n",
       "      <td>rs</td>\n",
       "      <td>5</td>\n",
       "      <td>5</td>\n",
       "      <td>5</td>\n",
       "      <td>3</td>\n",
       "      <td>3</td>\n",
       "      <td>4.333333</td>\n",
       "    </tr>\n",
       "    <tr>\n",
       "      <th>85</th>\n",
       "      <td>4659740883</td>\n",
       "      <td>For guds skyld la det skje med en eller helst ...</td>\n",
       "      <td>rs</td>\n",
       "      <td>5</td>\n",
       "      <td>5</td>\n",
       "      <td>3</td>\n",
       "      <td>5</td>\n",
       "      <td>3</td>\n",
       "      <td>4.333333</td>\n",
       "    </tr>\n",
       "    <tr>\n",
       "      <th>89</th>\n",
       "      <td>9733</td>\n",
       "      <td>Ja, det er på tide å sende disse immigrantene ...</td>\n",
       "      <td>fb</td>\n",
       "      <td>5</td>\n",
       "      <td>3</td>\n",
       "      <td>5</td>\n",
       "      <td>3</td>\n",
       "      <td>3</td>\n",
       "      <td>3.666667</td>\n",
       "    </tr>\n",
       "    <tr>\n",
       "      <th>91</th>\n",
       "      <td>9743</td>\n",
       "      <td>Send ned en lærer så kan de lære språket før d...</td>\n",
       "      <td>fb</td>\n",
       "      <td>5</td>\n",
       "      <td>4</td>\n",
       "      <td>4</td>\n",
       "      <td>3</td>\n",
       "      <td>3</td>\n",
       "      <td>3.666667</td>\n",
       "    </tr>\n",
       "  </tbody>\n",
       "</table>\n",
       "</div>"
      ],
      "text/plain": [
       "                     id                                               text  \\\n",
       "1                 10817                    Knall ein biff i haue pån terje   \n",
       "3            4660257108  hjelper ikke på vold og kriminell statistikken...   \n",
       "11  1216628051745951745  iranerne vil ikke ha en dritt å gjøre med isla...   \n",
       "17           4678430862  Ellers kan de dra tilbake til \"the shit holes\"...   \n",
       "18           4660091180  Skal si vi har kommet langt når folk må holde ...   \n",
       "22           4662831768  Ut...Med hele fam.Det er det eneste de forstår...   \n",
       "23  1227702763473252352  Hele kirka påstår nå at de har snudd,akkurat s...   \n",
       "24                11184   Er ikke det terrorsvinet blitt utlevert enda? 👀😡   \n",
       "28           4659434469  Send ungdommene med enveisbilett til en korans...   \n",
       "42  1231594352151089153  Navn Navn Navn Navn Navn Spekulasjon i hva som...   \n",
       "45           4661207608  Woo hooo!!Vi kan bruke statens pensjonsfond fo...   \n",
       "46           4660545676  Vi ser ikke bare hva som skjer her hjemme, men...   \n",
       "53  1222669174322929670  Navn Til hhhh få de sendt tilbake indoktrinert...   \n",
       "54           4679835464  Hvem er personen i blått..mann eller kvinne..?...   \n",
       "55           4683597752  Jernteppet og den påfølgende lave levestandare...   \n",
       "58  1217949465417592832  Navn Navn Når du trenes opp i bomber, kutter. ...   \n",
       "62           4680002809  Ja dette syns jeg må gjøre noe med. Erna må se...   \n",
       "64                 3099  Navn Navn dette avskyelige damemenneske reiste...   \n",
       "66           4685066950  Norge burde sende hjem alle tyrkere det er ikk...   \n",
       "74           4684429089  Veks barnet opp til å verta ein heterofil musl...   \n",
       "77           4685118364  Enig. Ta en dna test og send dem på huet og ræ...   \n",
       "78           4680657760  Send de tilbake sporenstreks. Men svar på en t...   \n",
       "85           4659740883  For guds skyld la det skje med en eller helst ...   \n",
       "89                 9733  Ja, det er på tide å sende disse immigrantene ...   \n",
       "91                 9743  Send ned en lærer så kan de lære språket før d...   \n",
       "\n",
       "   source  category  sondre  mathias  vilde  kristoffer       avg  \n",
       "1      fb         5       3        3      5           5  3.666667  \n",
       "3      rs         5       4        5      2           2  3.666667  \n",
       "11     tw         5       5        5      5           4  5.000000  \n",
       "17     rs         5       4        5      3           3  4.000000  \n",
       "18     rs         5       4        4      2           2  3.333333  \n",
       "22     rs         5       5        5      2           3  4.000000  \n",
       "23     tw         5       5        4      5           5  4.666667  \n",
       "24     fb         5       4        5      3           3  4.000000  \n",
       "28     rs         5       3        5      5           5  4.333333  \n",
       "42     tw         5       4        4      4           4  4.000000  \n",
       "45     rs         5       5        5      5           5  5.000000  \n",
       "46     rs         5       5        4      3           3  4.000000  \n",
       "53     tw         5       5        4      4           5  4.333333  \n",
       "54     rs         5       5        4      4           5  4.333333  \n",
       "55     rs         5       4        4      4           4  4.000000  \n",
       "58     tw         5       5        5      5           5  5.000000  \n",
       "62     rs         5       5        4      5           5  4.666667  \n",
       "64     fb         5       3        3      4           4  3.333333  \n",
       "66     rs         5       5        5      4           5  4.666667  \n",
       "74     rs         5       5        5      4           4  4.666667  \n",
       "77     rs         5       5        5      3           3  4.333333  \n",
       "78     rs         5       5        5      3           3  4.333333  \n",
       "85     rs         5       5        3      5           3  4.333333  \n",
       "89     fb         5       3        5      3           3  3.666667  \n",
       "91     fb         5       4        4      3           3  3.666667  "
      ]
     },
     "execution_count": 67,
     "metadata": {},
     "output_type": "execute_result"
    }
   ],
   "source": [
    "hat"
   ]
  },
  {
   "cell_type": "code",
   "execution_count": null,
   "id": "attempted-assist",
   "metadata": {},
   "outputs": [],
   "source": []
  },
  {
   "cell_type": "code",
   "execution_count": null,
   "id": "endangered-thailand",
   "metadata": {},
   "outputs": [],
   "source": []
  },
  {
   "cell_type": "code",
   "execution_count": 98,
   "id": "measured-hudson",
   "metadata": {},
   "outputs": [
    {
     "data": {
      "text/html": [
       "<div>\n",
       "<style scoped>\n",
       "    .dataframe tbody tr th:only-of-type {\n",
       "        vertical-align: middle;\n",
       "    }\n",
       "\n",
       "    .dataframe tbody tr th {\n",
       "        vertical-align: top;\n",
       "    }\n",
       "\n",
       "    .dataframe thead th {\n",
       "        text-align: right;\n",
       "    }\n",
       "</style>\n",
       "<table border=\"1\" class=\"dataframe\">\n",
       "  <thead>\n",
       "    <tr style=\"text-align: right;\">\n",
       "      <th></th>\n",
       "      <th>id</th>\n",
       "      <th>text</th>\n",
       "      <th>source</th>\n",
       "      <th>category</th>\n",
       "      <th>sondre</th>\n",
       "      <th>mathias</th>\n",
       "      <th>vilde</th>\n",
       "      <th>kristoffer</th>\n",
       "      <th>avg</th>\n",
       "    </tr>\n",
       "  </thead>\n",
       "  <tbody>\n",
       "    <tr>\n",
       "      <th>71</th>\n",
       "      <td>6745</td>\n",
       "      <td>er du dyselektiker?</td>\n",
       "      <td>fb</td>\n",
       "      <td>3</td>\n",
       "      <td>1</td>\n",
       "      <td>3</td>\n",
       "      <td>1</td>\n",
       "      <td>1</td>\n",
       "      <td>1.666667</td>\n",
       "    </tr>\n",
       "  </tbody>\n",
       "</table>\n",
       "</div>"
      ],
      "text/plain": [
       "      id                 text source  category  sondre  mathias  vilde  \\\n",
       "71  6745  er du dyselektiker?     fb         3       1        3      1   \n",
       "\n",
       "    kristoffer       avg  \n",
       "71           1  1.666667  "
      ]
     },
     "execution_count": 98,
     "metadata": {},
     "output_type": "execute_result"
    }
   ],
   "source": [
    "df_off.loc[df_off.text == \"er du dyselektiker?\"]"
   ]
  },
  {
   "cell_type": "code",
   "execution_count": 100,
   "id": "extensive-checkout",
   "metadata": {},
   "outputs": [
    {
     "data": {
      "text/html": [
       "<div>\n",
       "<style scoped>\n",
       "    .dataframe tbody tr th:only-of-type {\n",
       "        vertical-align: middle;\n",
       "    }\n",
       "\n",
       "    .dataframe tbody tr th {\n",
       "        vertical-align: top;\n",
       "    }\n",
       "\n",
       "    .dataframe thead th {\n",
       "        text-align: right;\n",
       "    }\n",
       "</style>\n",
       "<table border=\"1\" class=\"dataframe\">\n",
       "  <thead>\n",
       "    <tr style=\"text-align: right;\">\n",
       "      <th></th>\n",
       "      <th>id</th>\n",
       "      <th>text</th>\n",
       "      <th>source</th>\n",
       "      <th>category</th>\n",
       "      <th>sondre</th>\n",
       "      <th>mathias</th>\n",
       "      <th>vilde</th>\n",
       "      <th>kristoffer</th>\n",
       "      <th>avg</th>\n",
       "    </tr>\n",
       "  </thead>\n",
       "  <tbody>\n",
       "    <tr>\n",
       "      <th>39</th>\n",
       "      <td>7802</td>\n",
       "      <td>Navn Navn Navn Du mener så at Syria skal ta se...</td>\n",
       "      <td>fb</td>\n",
       "      <td>4</td>\n",
       "      <td>3</td>\n",
       "      <td>4</td>\n",
       "      <td>2</td>\n",
       "      <td>2</td>\n",
       "      <td>3.0</td>\n",
       "    </tr>\n",
       "  </tbody>\n",
       "</table>\n",
       "</div>"
      ],
      "text/plain": [
       "      id                                               text source  category  \\\n",
       "39  7802  Navn Navn Navn Du mener så at Syria skal ta se...     fb         4   \n",
       "\n",
       "    sondre  mathias  vilde  kristoffer  avg  \n",
       "39       3        4      2           2  3.0  "
      ]
     },
     "execution_count": 100,
     "metadata": {},
     "output_type": "execute_result"
    }
   ],
   "source": [
    "df_off.loc[df_off.text == \"Navn Navn Navn Du mener så at Syria skal ta seg av norske terrorister. Det gidder de selvfølgelig ikke, på samme måte som vi sender utenlandske kriminelle hjem til der de kommer fra\"]"
   ]
  },
  {
   "cell_type": "code",
   "execution_count": 358,
   "id": "recorded-viking",
   "metadata": {},
   "outputs": [
    {
     "data": {
      "text/html": [
       "<div>\n",
       "<style scoped>\n",
       "    .dataframe tbody tr th:only-of-type {\n",
       "        vertical-align: middle;\n",
       "    }\n",
       "\n",
       "    .dataframe tbody tr th {\n",
       "        vertical-align: top;\n",
       "    }\n",
       "\n",
       "    .dataframe thead th {\n",
       "        text-align: right;\n",
       "    }\n",
       "</style>\n",
       "<table border=\"1\" class=\"dataframe\">\n",
       "  <thead>\n",
       "    <tr style=\"text-align: right;\">\n",
       "      <th></th>\n",
       "      <th>id</th>\n",
       "      <th>text</th>\n",
       "      <th>source</th>\n",
       "      <th>category</th>\n",
       "      <th>sondre</th>\n",
       "      <th>mathias</th>\n",
       "      <th>vilde</th>\n",
       "      <th>kristoffer</th>\n",
       "      <th>avg</th>\n",
       "    </tr>\n",
       "  </thead>\n",
       "  <tbody>\n",
       "  </tbody>\n",
       "</table>\n",
       "</div>"
      ],
      "text/plain": [
       "Empty DataFrame\n",
       "Columns: [id, text, source, category, sondre, mathias, vilde, kristoffer, avg]\n",
       "Index: []"
      ]
     },
     "execution_count": 358,
     "metadata": {},
     "output_type": "execute_result"
    }
   ],
   "source": [
    "df_off.loc[ (df_off.category == 5) &(df_off.vilde ==5) & (df.sondre == 5) & (df.mathias == 5)]"
   ]
  },
  {
   "cell_type": "code",
   "execution_count": 93,
   "id": "floral-billion",
   "metadata": {},
   "outputs": [],
   "source": [
    "test = df_off.loc[(df_off.vilde != df_off.sondre ) & (df_off.vilde != df_off.mathias) & (df_off.sondre != df_off.mathias) ]"
   ]
  },
  {
   "cell_type": "code",
   "execution_count": 83,
   "id": "marked-makeup",
   "metadata": {},
   "outputs": [
    {
     "data": {
      "text/plain": [
       "16"
      ]
     },
     "execution_count": 83,
     "metadata": {},
     "output_type": "execute_result"
    }
   ],
   "source": [
    "len(test)"
   ]
  },
  {
   "cell_type": "code",
   "execution_count": 96,
   "id": "union-swing",
   "metadata": {},
   "outputs": [
    {
     "name": "stdout",
     "output_type": "stream",
     "text": [
      "De er helt ute og kjøre dette partiet Når ett parti som oppfører seg slik som mdg gjør mot sitt eget folk, så minner det mye om andre stater hvor statsledere har trødd på sitt folk og vi vet hvordan det har gått Jeg snakket med noen som kalte Mdg for miljøpartiet de gale🙁\n",
      "------\n",
      "hjelper ikke på vold og kriminell statistikken før de stopper beriking og begynner å kaste terroristene ut av øyene.\n",
      "------\n",
      "Ellers kan de dra tilbake til \"the shit holes\" de kom fra.\n",
      "------\n",
      "Navn Navn Du er dessverre ikke alene, som byrde for samfunnet, med selvvalgte lidelser og plager og ønske om å lyge om alt, bare ville være hjemme og helst ikke bidra med noe som helst til felleskassen....\n",
      "------\n",
      "Å plyndre land for rikdommer og kultur skatter. Er også så ytre høyre at det er nøyaktig det samme som Hitler gjorde. Å hate dadaismen er også hitleriansk ytre høyre\n",
      "------\n",
      "Er ikke det terrorsvinet blitt utlevert enda? 👀😡\n",
      "------\n",
      "Når kommer endelig MASKULINISME som svar på den derre feminisme kjønnskrigen!\n",
      "------\n",
      "Navn Navn Navn Du mener så at Syria skal ta seg av norske terrorister. Det gidder de selvfølgelig ikke, på samme måte som vi sender utenlandske kriminelle hjem til der de kommer fra\n",
      "------\n",
      "Vi ser ikke bare hva som skjer her hjemme, men også hva som skjer der de kommer ifra. Konklusjonen er at hjemlandene deres er den rette plassen for dem.\n",
      "------\n",
      "Navn et godt eksempel på fake news det du skriver ja.. Basert på myter og usakligheter. Typisk sosialistisk å kaste fra seg meningsløse utsagn uten noen rot i virkeligheten\n",
      "------\n",
      "Oppsiktsvekkende og skammelig! Hva er det for et samfunn vi går til i fremtiden?\n",
      "------\n",
      "Innvandringspolitikk  se med bibelen heler ikke åpen dem ikke tro av noe så pass. Hun er norsk is men har bak i ryggen og på i hude løs. Det hun kan sitte i godt kontroll med deg men har bak arbeid vente hun åpne hus. Får dem satans sør Etiopia.\n",
      "------\n",
      "På HØY tid. Nå må FRP gå mot en klar nasjonalkonservativ retning igjen (ikke den veike, rosa, kjerring-politikken til Siv &amp; Co). Da vil de prege norsk politikk i fremtiden og trekke seg fra liberal globalistisk BS.  Make Norway Great Again!\n",
      "------\n",
      "På tide at politiet er like effektive med å ut transportere våre \"nye landsmenn\" som de var med han amerikaneren forrige uke.Han hverken rakk å si eller gjøre noe før han var arrestert.\n",
      "------\n",
      "Usensurert råsex med ung asiatisk jente\n",
      "------\n",
      "Re:1% til USA. Pass på at du ikke har falt for propaganda om somalierne i USA da. Antallet terrorister fra den gruppen er jo helt sammenlignbart med slike grupper her i Europa.\n",
      "------\n"
     ]
    }
   ],
   "source": [
    "for text in test.text:\n",
    "    print(text)\n",
    "    print(\"------\")"
   ]
  },
  {
   "cell_type": "code",
   "execution_count": 102,
   "id": "rotary-sheet",
   "metadata": {
    "scrolled": true
   },
   "outputs": [
    {
     "data": {
      "text/html": [
       "<div>\n",
       "<style scoped>\n",
       "    .dataframe tbody tr th:only-of-type {\n",
       "        vertical-align: middle;\n",
       "    }\n",
       "\n",
       "    .dataframe tbody tr th {\n",
       "        vertical-align: top;\n",
       "    }\n",
       "\n",
       "    .dataframe thead th {\n",
       "        text-align: right;\n",
       "    }\n",
       "</style>\n",
       "<table border=\"1\" class=\"dataframe\">\n",
       "  <thead>\n",
       "    <tr style=\"text-align: right;\">\n",
       "      <th></th>\n",
       "      <th>id</th>\n",
       "      <th>text</th>\n",
       "      <th>source</th>\n",
       "      <th>category</th>\n",
       "      <th>sondre</th>\n",
       "      <th>mathias</th>\n",
       "      <th>vilde</th>\n",
       "      <th>kristoffer</th>\n",
       "      <th>avg</th>\n",
       "    </tr>\n",
       "  </thead>\n",
       "  <tbody>\n",
       "    <tr>\n",
       "      <th>1</th>\n",
       "      <td>10817</td>\n",
       "      <td>Knall ein biff i haue pån terje</td>\n",
       "      <td>fb</td>\n",
       "      <td>5</td>\n",
       "      <td>3</td>\n",
       "      <td>3</td>\n",
       "      <td>5</td>\n",
       "      <td>5</td>\n",
       "      <td>3.666667</td>\n",
       "    </tr>\n",
       "    <tr>\n",
       "      <th>3</th>\n",
       "      <td>4660257108</td>\n",
       "      <td>hjelper ikke på vold og kriminell statistikken...</td>\n",
       "      <td>rs</td>\n",
       "      <td>5</td>\n",
       "      <td>4</td>\n",
       "      <td>5</td>\n",
       "      <td>2</td>\n",
       "      <td>2</td>\n",
       "      <td>3.666667</td>\n",
       "    </tr>\n",
       "    <tr>\n",
       "      <th>11</th>\n",
       "      <td>1216628051745951745</td>\n",
       "      <td>iranerne vil ikke ha en dritt å gjøre med isla...</td>\n",
       "      <td>tw</td>\n",
       "      <td>5</td>\n",
       "      <td>5</td>\n",
       "      <td>5</td>\n",
       "      <td>5</td>\n",
       "      <td>4</td>\n",
       "      <td>5.000000</td>\n",
       "    </tr>\n",
       "    <tr>\n",
       "      <th>17</th>\n",
       "      <td>4678430862</td>\n",
       "      <td>Ellers kan de dra tilbake til \"the shit holes\"...</td>\n",
       "      <td>rs</td>\n",
       "      <td>5</td>\n",
       "      <td>4</td>\n",
       "      <td>5</td>\n",
       "      <td>3</td>\n",
       "      <td>3</td>\n",
       "      <td>4.000000</td>\n",
       "    </tr>\n",
       "    <tr>\n",
       "      <th>18</th>\n",
       "      <td>4660091180</td>\n",
       "      <td>Skal si vi har kommet langt når folk må holde ...</td>\n",
       "      <td>rs</td>\n",
       "      <td>5</td>\n",
       "      <td>4</td>\n",
       "      <td>4</td>\n",
       "      <td>2</td>\n",
       "      <td>2</td>\n",
       "      <td>3.333333</td>\n",
       "    </tr>\n",
       "    <tr>\n",
       "      <th>22</th>\n",
       "      <td>4662831768</td>\n",
       "      <td>Ut...Med hele fam.Det er det eneste de forstår...</td>\n",
       "      <td>rs</td>\n",
       "      <td>5</td>\n",
       "      <td>5</td>\n",
       "      <td>5</td>\n",
       "      <td>2</td>\n",
       "      <td>3</td>\n",
       "      <td>4.000000</td>\n",
       "    </tr>\n",
       "    <tr>\n",
       "      <th>23</th>\n",
       "      <td>1227702763473252352</td>\n",
       "      <td>Hele kirka påstår nå at de har snudd,akkurat s...</td>\n",
       "      <td>tw</td>\n",
       "      <td>5</td>\n",
       "      <td>5</td>\n",
       "      <td>4</td>\n",
       "      <td>5</td>\n",
       "      <td>5</td>\n",
       "      <td>4.666667</td>\n",
       "    </tr>\n",
       "    <tr>\n",
       "      <th>24</th>\n",
       "      <td>11184</td>\n",
       "      <td>Er ikke det terrorsvinet blitt utlevert enda? 👀😡</td>\n",
       "      <td>fb</td>\n",
       "      <td>5</td>\n",
       "      <td>4</td>\n",
       "      <td>5</td>\n",
       "      <td>3</td>\n",
       "      <td>3</td>\n",
       "      <td>4.000000</td>\n",
       "    </tr>\n",
       "    <tr>\n",
       "      <th>28</th>\n",
       "      <td>4659434469</td>\n",
       "      <td>Send ungdommene med enveisbilett til en korans...</td>\n",
       "      <td>rs</td>\n",
       "      <td>5</td>\n",
       "      <td>3</td>\n",
       "      <td>5</td>\n",
       "      <td>5</td>\n",
       "      <td>5</td>\n",
       "      <td>4.333333</td>\n",
       "    </tr>\n",
       "    <tr>\n",
       "      <th>42</th>\n",
       "      <td>1231594352151089153</td>\n",
       "      <td>Navn Navn Navn Navn Navn Spekulasjon i hva som...</td>\n",
       "      <td>tw</td>\n",
       "      <td>5</td>\n",
       "      <td>4</td>\n",
       "      <td>4</td>\n",
       "      <td>4</td>\n",
       "      <td>4</td>\n",
       "      <td>4.000000</td>\n",
       "    </tr>\n",
       "    <tr>\n",
       "      <th>45</th>\n",
       "      <td>4661207608</td>\n",
       "      <td>Woo hooo!!Vi kan bruke statens pensjonsfond fo...</td>\n",
       "      <td>rs</td>\n",
       "      <td>5</td>\n",
       "      <td>5</td>\n",
       "      <td>5</td>\n",
       "      <td>5</td>\n",
       "      <td>5</td>\n",
       "      <td>5.000000</td>\n",
       "    </tr>\n",
       "    <tr>\n",
       "      <th>46</th>\n",
       "      <td>4660545676</td>\n",
       "      <td>Vi ser ikke bare hva som skjer her hjemme, men...</td>\n",
       "      <td>rs</td>\n",
       "      <td>5</td>\n",
       "      <td>5</td>\n",
       "      <td>4</td>\n",
       "      <td>3</td>\n",
       "      <td>3</td>\n",
       "      <td>4.000000</td>\n",
       "    </tr>\n",
       "    <tr>\n",
       "      <th>53</th>\n",
       "      <td>1222669174322929670</td>\n",
       "      <td>Navn Til hhhh få de sendt tilbake indoktrinert...</td>\n",
       "      <td>tw</td>\n",
       "      <td>5</td>\n",
       "      <td>5</td>\n",
       "      <td>4</td>\n",
       "      <td>4</td>\n",
       "      <td>5</td>\n",
       "      <td>4.333333</td>\n",
       "    </tr>\n",
       "    <tr>\n",
       "      <th>54</th>\n",
       "      <td>4679835464</td>\n",
       "      <td>Hvem er personen i blått..mann eller kvinne..?...</td>\n",
       "      <td>rs</td>\n",
       "      <td>5</td>\n",
       "      <td>5</td>\n",
       "      <td>4</td>\n",
       "      <td>4</td>\n",
       "      <td>5</td>\n",
       "      <td>4.333333</td>\n",
       "    </tr>\n",
       "    <tr>\n",
       "      <th>55</th>\n",
       "      <td>4683597752</td>\n",
       "      <td>Jernteppet og den påfølgende lave levestandare...</td>\n",
       "      <td>rs</td>\n",
       "      <td>5</td>\n",
       "      <td>4</td>\n",
       "      <td>4</td>\n",
       "      <td>4</td>\n",
       "      <td>4</td>\n",
       "      <td>4.000000</td>\n",
       "    </tr>\n",
       "    <tr>\n",
       "      <th>58</th>\n",
       "      <td>1217949465417592832</td>\n",
       "      <td>Navn Navn Når du trenes opp i bomber, kutter. ...</td>\n",
       "      <td>tw</td>\n",
       "      <td>5</td>\n",
       "      <td>5</td>\n",
       "      <td>5</td>\n",
       "      <td>5</td>\n",
       "      <td>5</td>\n",
       "      <td>5.000000</td>\n",
       "    </tr>\n",
       "    <tr>\n",
       "      <th>62</th>\n",
       "      <td>4680002809</td>\n",
       "      <td>Ja dette syns jeg må gjøre noe med. Erna må se...</td>\n",
       "      <td>rs</td>\n",
       "      <td>5</td>\n",
       "      <td>5</td>\n",
       "      <td>4</td>\n",
       "      <td>5</td>\n",
       "      <td>5</td>\n",
       "      <td>4.666667</td>\n",
       "    </tr>\n",
       "    <tr>\n",
       "      <th>64</th>\n",
       "      <td>3099</td>\n",
       "      <td>Navn Navn dette avskyelige damemenneske reiste...</td>\n",
       "      <td>fb</td>\n",
       "      <td>5</td>\n",
       "      <td>3</td>\n",
       "      <td>3</td>\n",
       "      <td>4</td>\n",
       "      <td>4</td>\n",
       "      <td>3.333333</td>\n",
       "    </tr>\n",
       "    <tr>\n",
       "      <th>66</th>\n",
       "      <td>4685066950</td>\n",
       "      <td>Norge burde sende hjem alle tyrkere det er ikk...</td>\n",
       "      <td>rs</td>\n",
       "      <td>5</td>\n",
       "      <td>5</td>\n",
       "      <td>5</td>\n",
       "      <td>4</td>\n",
       "      <td>5</td>\n",
       "      <td>4.666667</td>\n",
       "    </tr>\n",
       "    <tr>\n",
       "      <th>74</th>\n",
       "      <td>4684429089</td>\n",
       "      <td>Veks barnet opp til å verta ein heterofil musl...</td>\n",
       "      <td>rs</td>\n",
       "      <td>5</td>\n",
       "      <td>5</td>\n",
       "      <td>5</td>\n",
       "      <td>4</td>\n",
       "      <td>4</td>\n",
       "      <td>4.666667</td>\n",
       "    </tr>\n",
       "    <tr>\n",
       "      <th>77</th>\n",
       "      <td>4685118364</td>\n",
       "      <td>Enig. Ta en dna test og send dem på huet og ræ...</td>\n",
       "      <td>rs</td>\n",
       "      <td>5</td>\n",
       "      <td>5</td>\n",
       "      <td>5</td>\n",
       "      <td>3</td>\n",
       "      <td>3</td>\n",
       "      <td>4.333333</td>\n",
       "    </tr>\n",
       "    <tr>\n",
       "      <th>78</th>\n",
       "      <td>4680657760</td>\n",
       "      <td>Send de tilbake sporenstreks. Men svar på en t...</td>\n",
       "      <td>rs</td>\n",
       "      <td>5</td>\n",
       "      <td>5</td>\n",
       "      <td>5</td>\n",
       "      <td>3</td>\n",
       "      <td>3</td>\n",
       "      <td>4.333333</td>\n",
       "    </tr>\n",
       "    <tr>\n",
       "      <th>85</th>\n",
       "      <td>4659740883</td>\n",
       "      <td>For guds skyld la det skje med en eller helst ...</td>\n",
       "      <td>rs</td>\n",
       "      <td>5</td>\n",
       "      <td>5</td>\n",
       "      <td>3</td>\n",
       "      <td>5</td>\n",
       "      <td>3</td>\n",
       "      <td>4.333333</td>\n",
       "    </tr>\n",
       "    <tr>\n",
       "      <th>89</th>\n",
       "      <td>9733</td>\n",
       "      <td>Ja, det er på tide å sende disse immigrantene ...</td>\n",
       "      <td>fb</td>\n",
       "      <td>5</td>\n",
       "      <td>3</td>\n",
       "      <td>5</td>\n",
       "      <td>3</td>\n",
       "      <td>3</td>\n",
       "      <td>3.666667</td>\n",
       "    </tr>\n",
       "    <tr>\n",
       "      <th>91</th>\n",
       "      <td>9743</td>\n",
       "      <td>Send ned en lærer så kan de lære språket før d...</td>\n",
       "      <td>fb</td>\n",
       "      <td>5</td>\n",
       "      <td>4</td>\n",
       "      <td>4</td>\n",
       "      <td>3</td>\n",
       "      <td>3</td>\n",
       "      <td>3.666667</td>\n",
       "    </tr>\n",
       "  </tbody>\n",
       "</table>\n",
       "</div>"
      ],
      "text/plain": [
       "                     id                                               text  \\\n",
       "1                 10817                    Knall ein biff i haue pån terje   \n",
       "3            4660257108  hjelper ikke på vold og kriminell statistikken...   \n",
       "11  1216628051745951745  iranerne vil ikke ha en dritt å gjøre med isla...   \n",
       "17           4678430862  Ellers kan de dra tilbake til \"the shit holes\"...   \n",
       "18           4660091180  Skal si vi har kommet langt når folk må holde ...   \n",
       "22           4662831768  Ut...Med hele fam.Det er det eneste de forstår...   \n",
       "23  1227702763473252352  Hele kirka påstår nå at de har snudd,akkurat s...   \n",
       "24                11184   Er ikke det terrorsvinet blitt utlevert enda? 👀😡   \n",
       "28           4659434469  Send ungdommene med enveisbilett til en korans...   \n",
       "42  1231594352151089153  Navn Navn Navn Navn Navn Spekulasjon i hva som...   \n",
       "45           4661207608  Woo hooo!!Vi kan bruke statens pensjonsfond fo...   \n",
       "46           4660545676  Vi ser ikke bare hva som skjer her hjemme, men...   \n",
       "53  1222669174322929670  Navn Til hhhh få de sendt tilbake indoktrinert...   \n",
       "54           4679835464  Hvem er personen i blått..mann eller kvinne..?...   \n",
       "55           4683597752  Jernteppet og den påfølgende lave levestandare...   \n",
       "58  1217949465417592832  Navn Navn Når du trenes opp i bomber, kutter. ...   \n",
       "62           4680002809  Ja dette syns jeg må gjøre noe med. Erna må se...   \n",
       "64                 3099  Navn Navn dette avskyelige damemenneske reiste...   \n",
       "66           4685066950  Norge burde sende hjem alle tyrkere det er ikk...   \n",
       "74           4684429089  Veks barnet opp til å verta ein heterofil musl...   \n",
       "77           4685118364  Enig. Ta en dna test og send dem på huet og ræ...   \n",
       "78           4680657760  Send de tilbake sporenstreks. Men svar på en t...   \n",
       "85           4659740883  For guds skyld la det skje med en eller helst ...   \n",
       "89                 9733  Ja, det er på tide å sende disse immigrantene ...   \n",
       "91                 9743  Send ned en lærer så kan de lære språket før d...   \n",
       "\n",
       "   source  category  sondre  mathias  vilde  kristoffer       avg  \n",
       "1      fb         5       3        3      5           5  3.666667  \n",
       "3      rs         5       4        5      2           2  3.666667  \n",
       "11     tw         5       5        5      5           4  5.000000  \n",
       "17     rs         5       4        5      3           3  4.000000  \n",
       "18     rs         5       4        4      2           2  3.333333  \n",
       "22     rs         5       5        5      2           3  4.000000  \n",
       "23     tw         5       5        4      5           5  4.666667  \n",
       "24     fb         5       4        5      3           3  4.000000  \n",
       "28     rs         5       3        5      5           5  4.333333  \n",
       "42     tw         5       4        4      4           4  4.000000  \n",
       "45     rs         5       5        5      5           5  5.000000  \n",
       "46     rs         5       5        4      3           3  4.000000  \n",
       "53     tw         5       5        4      4           5  4.333333  \n",
       "54     rs         5       5        4      4           5  4.333333  \n",
       "55     rs         5       4        4      4           4  4.000000  \n",
       "58     tw         5       5        5      5           5  5.000000  \n",
       "62     rs         5       5        4      5           5  4.666667  \n",
       "64     fb         5       3        3      4           4  3.333333  \n",
       "66     rs         5       5        5      4           5  4.666667  \n",
       "74     rs         5       5        5      4           4  4.666667  \n",
       "77     rs         5       5        5      3           3  4.333333  \n",
       "78     rs         5       5        5      3           3  4.333333  \n",
       "85     rs         5       5        3      5           3  4.333333  \n",
       "89     fb         5       3        5      3           3  3.666667  \n",
       "91     fb         5       4        4      3           3  3.666667  "
      ]
     },
     "execution_count": 102,
     "metadata": {},
     "output_type": "execute_result"
    }
   ],
   "source": [
    "df_off[df_off.category == 5]"
   ]
  },
  {
   "cell_type": "code",
   "execution_count": null,
   "id": "ongoing-explosion",
   "metadata": {},
   "outputs": [],
   "source": []
  }
 ],
 "metadata": {
  "kernelspec": {
   "display_name": "Python 3",
   "language": "python",
   "name": "python3"
  },
  "language_info": {
   "codemirror_mode": {
    "name": "ipython",
    "version": 3
   },
   "file_extension": ".py",
   "mimetype": "text/x-python",
   "name": "python",
   "nbconvert_exporter": "python",
   "pygments_lexer": "ipython3",
   "version": "3.8.3"
  }
 },
 "nbformat": 4,
 "nbformat_minor": 5
}
