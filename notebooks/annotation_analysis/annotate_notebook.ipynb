{
 "cells": [
  {
   "cell_type": "markdown",
   "id": "responsible-quarterly",
   "metadata": {},
   "source": [
    "# Annotations"
   ]
  },
  {
   "cell_type": "markdown",
   "id": "figured-store",
   "metadata": {},
   "source": [
    "This notebook is used to annotate a group of utterances from the dataset by Svanes et al. 2020 as a small experiment to get some sense of the quality of the data and to calculate inter-annotator agreement using Fleiss' Kappa. "
   ]
  },
  {
   "cell_type": "markdown",
   "id": "public-dating",
   "metadata": {},
   "source": [
    "# Definitions from Svanes and Gunstad\n",
    "Guidelines are attached in their appendix. "
   ]
  },
  {
   "cell_type": "markdown",
   "id": "hundred-contractor",
   "metadata": {},
   "source": [
    "The following section is adopted from Svanes and Gunstad (2020)."
   ]
  },
  {
   "cell_type": "markdown",
   "id": "given-animal",
   "metadata": {},
   "source": [
    "<img src=\"images/hateful1.png\">"
   ]
  },
  {
   "cell_type": "markdown",
   "id": "analyzed-houston",
   "metadata": {},
   "source": [
    "<img src=\"images/hateful2.png\">"
   ]
  },
  {
   "cell_type": "markdown",
   "id": "mighty-allergy",
   "metadata": {},
   "source": [
    "<img src=\"images/moderately_hateful.png\">"
   ]
  },
  {
   "cell_type": "markdown",
   "id": "twenty-century",
   "metadata": {},
   "source": [
    "<img src=\"images/offensive1.png\">"
   ]
  },
  {
   "cell_type": "markdown",
   "id": "devoted-digest",
   "metadata": {},
   "source": [
    "<img src=\"images/offensive2.png\">"
   ]
  },
  {
   "cell_type": "markdown",
   "id": "irish-following",
   "metadata": {},
   "source": [
    "<img src=\"images/provocative1.png\">"
   ]
  },
  {
   "cell_type": "markdown",
   "id": "short-preserve",
   "metadata": {},
   "source": [
    "<img src=\"images/provocative2.png\">"
   ]
  },
  {
   "cell_type": "markdown",
   "id": "appropriate-coordinate",
   "metadata": {},
   "source": [
    "<img src=\"images/neutral.png\">"
   ]
  },
  {
   "cell_type": "markdown",
   "id": "daily-brisbane",
   "metadata": {},
   "source": [
    "# Code"
   ]
  },
  {
   "cell_type": "markdown",
   "id": "interpreted-manner",
   "metadata": {},
   "source": [
    "### Imports"
   ]
  },
  {
   "cell_type": "code",
   "execution_count": null,
   "id": "encouraging-impression",
   "metadata": {},
   "outputs": [],
   "source": [
    "import pandas as pd\n",
    "import os\n",
    "\n",
    "import warnings\n",
    "warnings.filterwarnings(\"ignore\")"
   ]
  },
  {
   "cell_type": "markdown",
   "id": "obvious-oriental",
   "metadata": {},
   "source": [
    "### Import data to annotate"
   ]
  },
  {
   "cell_type": "code",
   "execution_count": null,
   "id": "inappropriate-tennessee",
   "metadata": {},
   "outputs": [],
   "source": [
    "df = pd.read_csv(os.getcwd() + \"/annotated_combined.csv\")\n",
    "df_offensive = pd.read_csv(os.getcwd() + \"/annotated_offensive_combined.csv\")"
   ]
  },
  {
   "cell_type": "code",
   "execution_count": null,
   "id": "smooth-crisis",
   "metadata": {},
   "outputs": [],
   "source": [
    "display(df.head(3))\n",
    "display(df_offensive.head(3))"
   ]
  },
  {
   "cell_type": "code",
   "execution_count": null,
   "id": "colored-bhutan",
   "metadata": {},
   "outputs": [],
   "source": [
    "df_offensive.to_csv(os.getcwd()+\"/annotated_combined.csv\",index = False)"
   ]
  },
  {
   "cell_type": "code",
   "execution_count": null,
   "id": "collective-replica",
   "metadata": {},
   "outputs": [],
   "source": [
    "ANNOTATOR = \"vilde\""
   ]
  },
  {
   "cell_type": "code",
   "execution_count": null,
   "id": "funded-justice",
   "metadata": {},
   "outputs": [],
   "source": [
    "# Annotation function\n",
    "def annotate(df = df, i = 0):\n",
    "    IDS = df.id.values\n",
    "    grp = 0\n",
    "\n",
    "\n",
    "    while i <len(IDS):\n",
    "        ID = IDS[i]\n",
    "        row = df[df.id == ID]\n",
    "        \n",
    "        print()\n",
    "        print(\"ID: \", ID)\n",
    "        print(row.text.values[0], \"\\n\")\n",
    "        \n",
    "        print()\n",
    "\n",
    "        if grp == -1:\n",
    "            i -=1\n",
    "            continue\n",
    "        elif grp == \" \" or grp == \"\":\n",
    "            continue  \n",
    "        elif grp == -10:\n",
    "            print(\"Stopped annotating at:\", i, \"  |  ID: \", ID)\n",
    "            print()\n",
    "            break\n",
    "        \n",
    "        df.at[i, ANNOTATOR] = grp\n",
    "        i += 1"
   ]
  },
  {
   "cell_type": "markdown",
   "id": "uniform-environment",
   "metadata": {},
   "source": [
    "# Run annotations"
   ]
  },
  {
   "cell_type": "markdown",
   "id": "appropriate-dealer",
   "metadata": {},
   "source": [
    "The ```annotation(i)```-function takes ```i``` as input which is the starting row of all annotations. The default value is 0 which corresponds to the first row. \n",
    "\n",
    "\n",
    "Run the cell below to start annotating with the following commands:\n",
    "* Annotating category:  ```[1,5]``` in which 1 is neutral, 2 provocative, 3 offensive, 4 moderately hateful, 5 hateful.\n",
    "* Regret previous annotation: ```-1```\n",
    "* Stop annotating: ```-10```"
   ]
  },
  {
   "cell_type": "markdown",
   "id": "coordinated-bikini",
   "metadata": {},
   "source": [
    "### Five classes "
   ]
  },
  {
   "cell_type": "code",
   "execution_count": null,
   "id": "bulgarian-institution",
   "metadata": {},
   "outputs": [],
   "source": [
    "#annotate() "
   ]
  },
  {
   "cell_type": "markdown",
   "id": "cosmetic-forty",
   "metadata": {},
   "source": [
    "#### Save annotations\n",
    "Uncomment to save"
   ]
  },
  {
   "cell_type": "code",
   "execution_count": null,
   "id": "portable-links",
   "metadata": {},
   "outputs": [],
   "source": [
    "#df.to_csv(os.getcwd() + '/annotated_' + ANNOTATOR +\".csv\", index = False)\n",
    "#test = pd.read_csv(os.getcwd() + '/annotated_' + ANNOTATOR +\".csv\")\n",
    "#test.tail()"
   ]
  },
  {
   "cell_type": "markdown",
   "id": "organized-probability",
   "metadata": {},
   "source": [
    "### Only offensive classes\n",
    "The same annotation process but for 25 samples from each of the offensive classes."
   ]
  },
  {
   "cell_type": "code",
   "execution_count": null,
   "id": "trying-seventh",
   "metadata": {},
   "outputs": [],
   "source": [
    "annotate(df = df_offensive, i = 0)"
   ]
  },
  {
   "cell_type": "code",
   "execution_count": null,
   "id": "significant-scott",
   "metadata": {},
   "outputs": [],
   "source": [
    "display(df_offensive.head()) # Se over dataframen at annotasjonene er med\n",
    "display(df_offensive.tail()) # Skal ikke være 0 på noen av disse"
   ]
  },
  {
   "cell_type": "markdown",
   "id": "threatened-assault",
   "metadata": {},
   "source": [
    "#### Save annotations "
   ]
  },
  {
   "cell_type": "code",
   "execution_count": null,
   "id": "returning-measure",
   "metadata": {},
   "outputs": [],
   "source": [
    "df_offensive.to_csv(os.getcwd() + '/annotated_offensive_' + ANNOTATOR +\".csv\", index = False)\n",
    "test = pd.read_csv(os.getcwd() + '/annotated_offensive_' + ANNOTATOR +\".csv\")"
   ]
  },
  {
   "cell_type": "code",
   "execution_count": null,
   "id": "cooperative-advertiser",
   "metadata": {},
   "outputs": [],
   "source": [
    "test.tail(5) #Sjekker at filen har blitt lagret og at den kan leses inn og ser ut som den skal "
   ]
  },
  {
   "cell_type": "code",
   "execution_count": null,
   "id": "minus-ceremony",
   "metadata": {},
   "outputs": [],
   "source": [
    "test.head() # -\"-"
   ]
  },
  {
   "cell_type": "markdown",
   "id": "deadly-camcorder",
   "metadata": {},
   "source": [
    "# Notes"
   ]
  },
  {
   "cell_type": "markdown",
   "id": "oriental-classic",
   "metadata": {},
   "source": []
  }
 ],
 "metadata": {
  "kernelspec": {
   "display_name": "Python 3",
   "language": "python",
   "name": "python3"
  },
  "language_info": {
   "codemirror_mode": {
    "name": "ipython",
    "version": 3
   },
   "file_extension": ".py",
   "mimetype": "text/x-python",
   "name": "python",
   "nbconvert_exporter": "python",
   "pygments_lexer": "ipython3",
   "version": "3.8.3"
  }
 },
 "nbformat": 4,
 "nbformat_minor": 5
}
