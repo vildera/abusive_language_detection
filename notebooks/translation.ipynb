{
 "cells": [
  {
   "cell_type": "markdown",
   "id": "familiar-sussex",
   "metadata": {},
   "source": [
    "# Translation notebook"
   ]
  },
  {
   "cell_type": "markdown",
   "id": "early-release",
   "metadata": {},
   "source": [
    "Google Translate\n",
    "* https://pypi.org/project/googletrans/ (gir feilmelding - åpen issue) \n",
    "* https://pypi.org/project/pygoogletranslation/ (feilmelding)\n",
    "* https://pypi.org/project/google-trans-new/ (feilmelding)\n",
    "* https://pypi.org/project/pyGoogleTranslate/ (gir feilmelding og er lite effektiv)\n",
    "* https://github.com/Animenosekai/translate (virker å fungere bra)\n",
    "* Google sitt eget API (koster penger) \n",
    "\n",
    "Andre oversettere\n",
    "* https://blog.api.rakuten.net/top-10-best-translation-apis-google-translate-microsoft-translator-and-others/\n",
    "\n",
    "Nevrale modeller\n",
    "* https://github.com/UKPLab/EasyNMT (har kun prøvd en av modellene) "
   ]
  },
  {
   "cell_type": "markdown",
   "id": "dried-depth",
   "metadata": {},
   "source": [
    "Errormeldinger: \n",
    "* https://github.com/ssut/py-googletrans/issues/234\n",
    "* https://github.com/ssut/py-googletrans/pull/237"
   ]
  },
  {
   "cell_type": "markdown",
   "id": "diagnostic-columbus",
   "metadata": {},
   "source": [
    "## Imports "
   ]
  },
  {
   "cell_type": "code",
   "execution_count": null,
   "id": "twenty-gabriel",
   "metadata": {},
   "outputs": [],
   "source": [
    "#!poetry add <package>"
   ]
  },
  {
   "cell_type": "code",
   "execution_count": null,
   "id": "provincial-bargain",
   "metadata": {},
   "outputs": [],
   "source": [
    "import sys\n",
    "import os\n",
    "import pandas as pd\n",
    "\n",
    "from googletrans import Translator #fungerer ikke \n",
    "import pyGoogleTranslate as pgt \n",
    "import translatepy\n",
    "from easynmt import EasyNMT\n",
    "\n",
    "import warnings\n",
    "warnings.filterwarnings(\"ignore\")"
   ]
  },
  {
   "cell_type": "markdown",
   "id": "economic-alloy",
   "metadata": {},
   "source": [
    "## Load data"
   ]
  },
  {
   "cell_type": "code",
   "execution_count": null,
   "id": "improved-hughes",
   "metadata": {},
   "outputs": [],
   "source": [
    "path = '/Users/vildearntzen/Desktop/master_kode/master_kode/data/'\n",
    "df = pd.read_csv(path + 'dk.csv')\n",
    "df.head(2)"
   ]
  },
  {
   "cell_type": "code",
   "execution_count": null,
   "id": "indie-crack",
   "metadata": {},
   "outputs": [],
   "source": [
    "for i in range(15,20):\n",
    "    print(df[\"opus-mt\"][i])\n",
    "    print()"
   ]
  },
  {
   "cell_type": "code",
   "execution_count": null,
   "id": "d41caaf2",
   "metadata": {},
   "outputs": [],
   "source": [
    "for i in range(15,20):\n",
    "    print(df[\"cleaned\"][i])\n",
    "    print()"
   ]
  },
  {
   "cell_type": "markdown",
   "id": "signed-deficit",
   "metadata": {},
   "source": [
    "## Translation functions"
   ]
  },
  {
   "cell_type": "markdown",
   "id": "sound-payday",
   "metadata": {},
   "source": [
    "Functions from different translation libraries/models. The implementation should be correct but note that at the time of writing there are some open issues on some of the libraries causing the functions not to work. However, the functions are kept in case of they working in the future. The error messages are mentioned in the comment above each non-working function."
   ]
  },
  {
   "cell_type": "code",
   "execution_count": null,
   "id": "stylish-remark",
   "metadata": {},
   "outputs": [],
   "source": [
    "# AttributeError: 'NoneType' object has no attribute 'group'\n",
    "def google_trans(df, col):\n",
    "    '''\n",
    "    df: dataframe\n",
    "    col: text column to translate\n",
    "    '''\n",
    "    translator = Translator()\n",
    "    df[\"no\"] = df.apply(translator.translate, src=\"da\", dest =\"no\").apply(gettatr, args=(\"text\",))\n",
    "    return df\n",
    "\n",
    "\n",
    "# 'An error occured while translating: translation not found.'\n",
    "def pgt_trans(df, col):\n",
    "    '''\n",
    "    df: dataframe\n",
    "    col: text column to translate\n",
    "    '''\n",
    "    pgt.browser(\"chrome\", executable_path = '/usr/local/bin/chromedriver')\n",
    "    df[\"no\"] = df[col].apply(pgt.translate, destination_language = \"no\", source_language = \"da\")\n",
    "    return df\n",
    "\n",
    "\n",
    "def _translatepy(text):\n",
    "    '''\n",
    "    helpfunction: translating text to Norwegian using translatepy\n",
    "    '''\n",
    "    translator = translatepy.Translator()\n",
    "    return translator.translate(text, destination_language = \"Norwegian\").result\n",
    "\n",
    "\n",
    "def translatepy_translate(df, col):\n",
    "    translator = translatepy.Translator()\n",
    "    df[\"translatepy_no\"] = df[col].apply(_translatepy)\n",
    "    return df\n",
    "\n",
    "\n",
    "def _translateeasynmt(text, model):\n",
    "    '''\n",
    "    helpfunction: translating text to Norwegian using easynmt\n",
    "    '''\n",
    "    try:\n",
    "        res = model.translate(text, source_lang=\"da\", target_lang = \"no\")\n",
    "        return res\n",
    "    except:\n",
    "        print(\"\\n.....................\\n\")\n",
    "        print(text, \"was not translated\")\n",
    "        print(\"\\n.....................\\n\")\n",
    "    return text\n",
    "    \n",
    "    \n",
    "\n",
    "def easynmt_translate(df, col, model_name):\n",
    "    '''\n",
    "    df: dataframe\n",
    "    col: text column to translate\n",
    "    model: model used for translation ['opus-mt', 'mbart50_m2m' 'm2m_100_418M', 'm2m_100_1.2B']\n",
    "    notes: \n",
    "    opus-mt does not translate very well for da-no \n",
    "    mbart50_m2m does not support da-no\n",
    "    \n",
    "    '''\n",
    "    model = EasyNMT(model_name)\n",
    "    df[\"easynmt_no\" + \"_\" + model_name] = df[col].apply(_translateeasynmt, model = model)\n",
    "    return df\n",
    "    "
   ]
  },
  {
   "cell_type": "code",
   "execution_count": null,
   "id": "operating-public",
   "metadata": {},
   "outputs": [],
   "source": [
    "df_trans = translatepy_translate(df, \"cleaned\")"
   ]
  },
  {
   "cell_type": "code",
   "execution_count": null,
   "id": "rolled-arizona",
   "metadata": {},
   "outputs": [],
   "source": [
    "df_trans = df_trans[[\"Text\", \"Translated Text\", \"uid\", \"Source\", \"Sub-Task A\", \"Sub-Task B\", \"Sub-Task C\", \"cleaned\", \"translatepy_no\"]]\n",
    "df_trans.head(3)"
   ]
  },
  {
   "cell_type": "code",
   "execution_count": null,
   "id": "tamil-military",
   "metadata": {},
   "outputs": [],
   "source": [
    "df_trans = easynmt_translate(df_trans, \"cleaned\", \"m2m_100_418M\")"
   ]
  },
  {
   "cell_type": "code",
   "execution_count": null,
   "id": "incorporate-mobility",
   "metadata": {},
   "outputs": [],
   "source": [
    "df_trans.head(3)"
   ]
  },
  {
   "cell_type": "code",
   "execution_count": null,
   "id": "interpreted-bibliography",
   "metadata": {},
   "outputs": [],
   "source": [
    "#df_trans = df_trans[[\"Text\", \"Translated Text\", \"uid\", \"Source\", \"Sub-Task A\", \"Sub-Task B\", \"Sub-Task C\", \"cleaned\", \"translatepy_no\"]]\n",
    "#df_trans"
   ]
  },
  {
   "cell_type": "code",
   "execution_count": null,
   "id": "conceptual-detection",
   "metadata": {},
   "outputs": [],
   "source": [
    "df_trans.to_csv(path + \"dk_preprocessed_translations.csv\")"
   ]
  },
  {
   "cell_type": "code",
   "execution_count": null,
   "id": "regional-ecuador",
   "metadata": {},
   "outputs": [],
   "source": [
    "pd.read_csv(path +  \"dk_preprocessed_translations.csv\", index_col = 0)"
   ]
  },
  {
   "cell_type": "code",
   "execution_count": null,
   "id": "radio-infrastructure",
   "metadata": {},
   "outputs": [],
   "source": []
  }
 ],
 "metadata": {
  "kernelspec": {
   "display_name": "Python 3",
   "language": "python",
   "name": "python3"
  },
  "language_info": {
   "codemirror_mode": {
    "name": "ipython",
    "version": 3
   },
   "file_extension": ".py",
   "mimetype": "text/x-python",
   "name": "python",
   "nbconvert_exporter": "python",
   "pygments_lexer": "ipython3",
   "version": "3.8.3"
  }
 },
 "nbformat": 4,
 "nbformat_minor": 5
}
